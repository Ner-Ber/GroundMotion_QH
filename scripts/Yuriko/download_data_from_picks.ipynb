{
 "cells": [
  {
   "cell_type": "code",
   "execution_count": 33,
   "metadata": {},
   "outputs": [
    {
     "name": "stdout",
     "output_type": "stream",
     "text": [
      "The autoreload extension is already loaded. To reload it, use:\n",
      "  %reload_ext autoreload\n"
     ]
    }
   ],
   "source": [
    "%load_ext autoreload\n",
    "%autoreload 2\n",
    "import numpy as np\n",
    "from obspy import UTCDateTime\n",
    "from matplotlib import pyplot as plt\n",
    "import ground_motion_qh\n",
    "from ground_motion_qh.get_waveforms import get_stream_multiple_stations, raw_stream_to_amplitude_and_times\n",
    "import os\n",
    "from pathlib import Path\n",
    "from pprint import pprint\n",
    "import pickle\n",
    "\n",
    "base_dir = Path(ground_motion_qh.__file__).parent.parent"
   ]
  },
  {
   "cell_type": "code",
   "execution_count": null,
   "metadata": {},
   "outputs": [
    {
     "name": "stdout",
     "output_type": "stream",
     "text": [
      "       id                         time  pstime       mag\n",
      "96     86  2009-03-21T11:24:47.177143Z    4.85  3.411548\n",
      "136   126  2009-04-09T21:45:32.234286Z    5.50  3.248202\n",
      "143   133  2009-04-16T17:55:32.205714Z    4.86  3.572823\n",
      "275   265  2009-06-19T15:30:37.777143Z    4.01  3.615122\n",
      "590     7  2010-01-11T23:33:53.612857Z    6.77  3.145073\n",
      "...   ...                          ...     ...       ...\n",
      "7638  594  2019-11-20T06:42:23.652857Z    2.57  3.473032\n",
      "7737   58  2020-02-02T00:59:50.522857Z    3.27  4.035961\n",
      "7802  123  2020-04-05T22:37:19.127143Z    2.61  3.584312\n",
      "7847  168  2020-04-08T01:00:14.308571Z    2.39  3.167664\n",
      "8039  360  2020-07-07T02:34:02.328571Z    4.63  3.569379\n",
      "\n",
      "[93 rows x 4 columns]\n"
     ]
    }
   ],
   "source": [
    "import pandas as pd\n",
    "# ADD YOUR PICKS HERE:\n",
    "pick_fn='/home/yiwasak2/QuakeHack/GroundMotion_QH/All_magnitude.csv'\n",
    "pick_df=pd.read_csv(pick_fn, index_col=0)\n",
    "#pick_df=pick_df[(pick_df['mag']>=3.0)]\n",
    "for index,row in pick_df.iterrows():\n",
    "    pick_df.loc[index,'time']=UTCDateTime(row['time'])\n",
    "\n",
    "pick_times = pick_df['time'].values #...or whatever as a numpy datetime array\n",
    "print(pick_df)"
   ]
  },
  {
   "cell_type": "code",
   "execution_count": 35,
   "metadata": {},
   "outputs": [
    {
     "name": "stdout",
     "output_type": "stream",
     "text": [
      "Folder ANZA_SND_1994_M3_Picks already exists in the raw data folder.\n"
     ]
    }
   ],
   "source": [
    "download_name = \"ANZA_SND_1994_M3_Picks\"\n",
    "\n",
    "# check if the folder already exists in the raw data folder\n",
    "data_dir = base_dir / \"data\" / \"raw_data\" / download_name\n",
    "if data_dir.exists():\n",
    "    print(f\"Folder {download_name} already exists in the raw data folder.\")\n",
    "\n",
    "# MAKE SURE TO CHANGE STATION LOCATION ALONG WITH THE STATION NAME!\n",
    "station_metadata = dict(\n",
    "    stname = [\"SND\"],\n",
    "    network = \"AZ\",\n",
    "    org = \"IRIS\",\n",
    "    latitude = 33.5519,\n",
    "    longitude = -116.6129,\n",
    "    start_time = '1982-10-01',\n",
    "    number_of_tries = 2,\n",
    ")\n",
    "\n",
    "# explanation of buffers:\n",
    "\n",
    "# (hypocenter) t1                                                                                            t2\n",
    "# t0 time shift    pre-buffer     event time window     mid buffer     forecast time window      post buffer\n",
    "# |------------||--------------||-------------------||--------------||---------- ... ---------||-------------|\n",
    "\n",
    "analysis_metadata = dict(\n",
    "    mid_buffer = 20,\n",
    "    forecast_time_window = 60*60,\n",
    "    event_time_window = 30,\n",
    "    shift_times = False,\n",
    ")\n",
    "\n",
    "analysis_metadata[\"pre_buffer\"] = 3*0.05 * analysis_metadata[\"forecast_time_window\"] + analysis_metadata[\"event_time_window\"] + analysis_metadata[\"mid_buffer\"]\n",
    "analysis_metadata[\"post_buffer\"] = 3*0.05 * analysis_metadata[\"forecast_time_window\"] + analysis_metadata[\"event_time_window\"] + analysis_metadata[\"mid_buffer\"]\n"
   ]
  },
  {
   "cell_type": "code",
   "execution_count": 36,
   "metadata": {},
   "outputs": [
    {
     "name": "stdout",
     "output_type": "stream",
     "text": [
      "{'event_time_window': 30,\n",
      " 'forecast_time_window': 3600,\n",
      " 'mid_buffer': 20,\n",
      " 'post_buffer': 590.0000000000001,\n",
      " 'pre_buffer': 590.0000000000001,\n",
      " 'shift_times': False}\n"
     ]
    }
   ],
   "source": [
    "pprint(analysis_metadata, width=1)"
   ]
  },
  {
   "cell_type": "code",
   "execution_count": 37,
   "metadata": {},
   "outputs": [],
   "source": [
    "metadata = dict(\n",
    "    analysis_metadata = analysis_metadata,\n",
    "    station_metadata = station_metadata,\n",
    ")\n",
    "\n",
    "# create a data directory with and save the metadata\n",
    "data_dir = base_dir / \"data\" / \"raw_data\" / download_name\n",
    "os.makedirs(data_dir, exist_ok=True)\n",
    "np.save(data_dir / \"metadata.npy\", metadata)"
   ]
  },
  {
   "cell_type": "code",
   "execution_count": 38,
   "metadata": {},
   "outputs": [],
   "source": [
    "minus_time_range = [\n",
    "    analysis_metadata[\"pre_buffer\"],\n",
    "    analysis_metadata[\"pre_buffer\"] + analysis_metadata[\"event_time_window\"]\n",
    "]\n",
    "\n",
    "plus_time_range = [\n",
    "    analysis_metadata[\"pre_buffer\"] + analysis_metadata[\"event_time_window\"]+ analysis_metadata[\"mid_buffer\"],\n",
    "    analysis_metadata[\"pre_buffer\"] + analysis_metadata[\"event_time_window\"] + analysis_metadata[\"mid_buffer\"] +analysis_metadata[\"forecast_time_window\"]\n",
    "]"
   ]
  },
  {
   "cell_type": "code",
   "execution_count": 39,
   "metadata": {},
   "outputs": [
    {
     "name": "stdout",
     "output_type": "stream",
     "text": [
      "93\n",
      "[UTCDateTime(2009, 3, 21, 11, 24, 47, 177143)\n",
      " UTCDateTime(2009, 4, 9, 21, 45, 32, 234286)\n",
      " UTCDateTime(2009, 4, 16, 17, 55, 32, 205714)\n",
      " UTCDateTime(2009, 6, 19, 15, 30, 37, 777143)\n",
      " UTCDateTime(2010, 1, 11, 23, 33, 53, 612857)\n",
      " UTCDateTime(2010, 6, 3, 8, 44, 13, 720000)\n",
      " UTCDateTime(2010, 6, 8, 8, 58, 21, 140000)\n",
      " UTCDateTime(2010, 6, 15, 16, 23, 45, 134286)\n",
      " UTCDateTime(2010, 6, 16, 13, 46, 30, 480000)\n",
      " UTCDateTime(2010, 6, 18, 15, 14, 40, 310000)\n",
      " UTCDateTime(2010, 7, 8, 2, 34, 36, 131429)\n",
      " UTCDateTime(2010, 7, 8, 16, 22, 51, 265714)\n",
      " UTCDateTime(2010, 7, 12, 5, 50, 29, 418571)\n",
      " UTCDateTime(2010, 8, 6, 17, 39, 32, 955714)\n",
      " UTCDateTime(2010, 8, 11, 20, 47, 20, 881429)\n",
      " UTCDateTime(2010, 10, 6, 17, 58, 8, 294286)\n",
      " UTCDateTime(2010, 11, 19, 0, 56, 55, 498571)\n",
      " UTCDateTime(2010, 12, 23, 3, 39, 36, 515714)\n",
      " UTCDateTime(2011, 2, 12, 17, 30, 44, 331429)\n",
      " UTCDateTime(2011, 3, 29, 10, 43, 26, 104286)\n",
      " UTCDateTime(2011, 6, 3, 5, 45, 24, 190000)\n",
      " UTCDateTime(2011, 6, 14, 8, 25, 41, 91429)\n",
      " UTCDateTime(2011, 7, 15, 12, 3, 12, 858571)\n",
      " UTCDateTime(2011, 10, 5, 18, 20, 8, 865714)\n",
      " UTCDateTime(2011, 11, 19, 20, 32, 22, 441429)\n",
      " UTCDateTime(2012, 2, 14, 13, 5, 30, 731429)\n",
      " UTCDateTime(2012, 4, 22, 16, 18, 34, 848571)\n",
      " UTCDateTime(2012, 4, 24, 19, 44, 10, 561429)\n",
      " UTCDateTime(2012, 5, 18, 10, 37, 12, 908571)\n",
      " UTCDateTime(2012, 5, 21, 6, 19, 58, 938571)\n",
      " UTCDateTime(2012, 6, 16, 11, 57, 45, 957143)\n",
      " UTCDateTime(2012, 8, 26, 9, 53, 15, 438571)\n",
      " UTCDateTime(2012, 10, 28, 7, 47, 3, 580000)\n",
      " UTCDateTime(2012, 12, 17, 5, 17, 39, 407143)\n",
      " UTCDateTime(2013, 1, 6, 8, 19, 39, 210000)\n",
      " UTCDateTime(2013, 3, 11, 16, 56, 6, 282857)\n",
      " UTCDateTime(2013, 3, 20, 7, 50, 17, 868571)\n",
      " UTCDateTime(2013, 3, 27, 18, 17, 0, 144286)\n",
      " UTCDateTime(2013, 4, 25, 18, 59, 44, 101429)\n",
      " UTCDateTime(2013, 7, 17, 14, 7, 53, 608571)\n",
      " UTCDateTime(2013, 9, 4, 4, 4, 54, 714286)\n",
      " UTCDateTime(2013, 9, 20, 6, 10, 44, 38571)\n",
      " UTCDateTime(2013, 12, 30, 18, 32, 35, 627143)\n",
      " UTCDateTime(2013, 12, 30, 23, 44, 22, 12857)\n",
      " UTCDateTime(2014, 4, 6, 0, 0, 40, 362857)\n",
      " UTCDateTime(2014, 5, 9, 4, 49, 34, 90000)\n",
      " UTCDateTime(2014, 9, 3, 2, 38, 37, 57143)\n",
      " UTCDateTime(2014, 9, 9, 16, 8, 32, 231429)\n",
      " UTCDateTime(2014, 9, 14, 22, 16, 56, 780000)\n",
      " UTCDateTime(2014, 10, 11, 21, 2, 46, 247143)\n",
      " UTCDateTime(2014, 12, 4, 16, 53, 22, 280000)\n",
      " UTCDateTime(2015, 1, 18, 13, 23, 43, 907143)\n",
      " UTCDateTime(2015, 2, 7, 14, 5, 58, 914286)\n",
      " UTCDateTime(2015, 5, 30, 5, 23, 58, 357143)\n",
      " UTCDateTime(2015, 5, 31, 13, 2, 57, 568571)\n",
      " UTCDateTime(2015, 10, 3, 21, 8, 39, 751429)\n",
      " UTCDateTime(2016, 1, 9, 11, 43, 11, 220000)\n",
      " UTCDateTime(2016, 5, 6, 6, 19, 33, 657143)\n",
      " UTCDateTime(2016, 6, 10, 8, 33, 57, 634286)\n",
      " UTCDateTime(2016, 6, 10, 11, 14, 12, 344286)\n",
      " UTCDateTime(2016, 8, 6, 14, 39, 20, 415714)\n",
      " UTCDateTime(2017, 6, 7, 7, 12, 34, 764286)\n",
      " UTCDateTime(2017, 8, 17, 14, 10, 56, 377143)\n",
      " UTCDateTime(2017, 8, 22, 8, 12, 35, 334286)\n",
      " UTCDateTime(2017, 10, 27, 7, 56, 25, 788571)\n",
      " UTCDateTime(2017, 12, 7, 3, 57, 39, 685714)\n",
      " UTCDateTime(2018, 2, 26, 18, 44, 42, 305714)\n",
      " UTCDateTime(2018, 4, 2, 2, 53, 55, 378571)\n",
      " UTCDateTime(2018, 4, 23, 0, 46, 10, 320000)\n",
      " UTCDateTime(2018, 4, 26, 1, 36, 1, 260000)\n",
      " UTCDateTime(2018, 4, 26, 4, 51, 2, 262857)\n",
      " UTCDateTime(2018, 4, 30, 7, 40, 56, 458571)\n",
      " UTCDateTime(2018, 5, 19, 19, 26, 51, 798571)\n",
      " UTCDateTime(2018, 5, 30, 19, 22, 6, 790000)\n",
      " UTCDateTime(2018, 8, 4, 13, 48, 50, 638571)\n",
      " UTCDateTime(2018, 8, 15, 1, 24, 27, 207143)\n",
      " UTCDateTime(2018, 10, 17, 22, 9, 20, 240000)\n",
      " UTCDateTime(2018, 11, 8, 17, 16, 51, 471429)\n",
      " UTCDateTime(2019, 2, 23, 8, 41, 53, 702857)\n",
      " UTCDateTime(2019, 2, 26, 13, 58, 17, 188571)\n",
      " UTCDateTime(2019, 4, 23, 16, 50, 54, 437143)\n",
      " UTCDateTime(2019, 6, 4, 4, 34, 3, 731429)\n",
      " UTCDateTime(2019, 6, 13, 12, 38, 31, 581429)\n",
      " UTCDateTime(2019, 7, 19, 0, 57, 29, 930000)\n",
      " UTCDateTime(2019, 7, 20, 18, 14, 56, 944286)\n",
      " UTCDateTime(2019, 9, 4, 0, 18, 47, 604286)\n",
      " UTCDateTime(2019, 9, 20, 9, 47, 44, 194286)\n",
      " UTCDateTime(2019, 11, 10, 22, 8, 0, 778571)\n",
      " UTCDateTime(2019, 11, 20, 6, 42, 23, 652857)\n",
      " UTCDateTime(2020, 2, 2, 0, 59, 50, 522857)\n",
      " UTCDateTime(2020, 4, 5, 22, 37, 19, 127143)\n",
      " UTCDateTime(2020, 4, 8, 1, 0, 14, 308571)\n",
      " UTCDateTime(2020, 7, 7, 2, 34, 2, 328571)]\n"
     ]
    }
   ],
   "source": [
    "print(pick_times.size)\n",
    "print(pick_times)"
   ]
  },
  {
   "cell_type": "code",
   "execution_count": null,
   "metadata": {},
   "outputs": [
    {
     "name": "stdout",
     "output_type": "stream",
     "text": [
      "Dowloading event 0: 2009-03-21T11:24:47.177143Z\n"
     ]
    },
    {
     "name": "stdout",
     "output_type": "stream",
     "text": [
      "Dowloading event 1: 2009-04-09T21:45:32.234286Z\n"
     ]
    }
   ],
   "source": [
    "a_max_minus = []\n",
    "a_max_plus = []\n",
    "\n",
    "#while i<pick_times.size:\n",
    "for i, t1 in enumerate(pick_times):\n",
    "    print(f\"Dowloading event {i}: {t1}\")\n",
    "    \n",
    "    \"\"\" t2 = np.datetime64(t1) + np.timedelta64(\n",
    "        int(  # (QUAKE) HACK\n",
    "            analysis_metadata[\"pre_buffer\"]\n",
    "            + analysis_metadata[\"event_time_window\"]\n",
    "            + analysis_metadata[\"mid_buffer\"]\n",
    "            + analysis_metadata[\"forecast_time_window\"]\n",
    "            + analysis_metadata[\"post_buffer\"]\n",
    "        ),\"s\",\n",
    "    ) \"\"\"\n",
    "    t1 = t1 - analysis_metadata[\"pre_buffer\"]\n",
    "    t2 = t1 + int(  # (QUAKE) HACK\n",
    "            analysis_metadata[\"pre_buffer\"]\n",
    "            + analysis_metadata[\"event_time_window\"]\n",
    "            + analysis_metadata[\"mid_buffer\"]\n",
    "            + analysis_metadata[\"forecast_time_window\"]\n",
    "            + analysis_metadata[\"post_buffer\"]\n",
    "        )\n",
    "    \n",
    "\n",
    "    # preprocess the waveforms\n",
    "    i = 0\n",
    "    while i < station_metadata[\"number_of_tries\"]:\n",
    "        try:\n",
    "            stream_dict = get_stream_multiple_stations(\n",
    "                t1=UTCDateTime(t1),\n",
    "                t2=UTCDateTime(t2),\n",
    "            )\n",
    "            tmp_stream=stream_dict['SND']\n",
    "            tmp_stream\n",
    "            #stream_dict['SND'].plot()\n",
    "            event_dir = data_dir / f\"data/{t1.strftime('%Y-%m-%d_%H-%M-%S')}\"\n",
    "\n",
    "            os.makedirs(event_dir, exist_ok=True)\n",
    "\n",
    "            with open(event_dir / \"stream_dict.pkl\", \"wb\") as f:\n",
    "                pickle.dump(stream_dict, f)\n",
    "\n",
    "            amplitude, times = raw_stream_to_amplitude_and_times(stream_dict[\"SND\"])\n",
    "            np.save(event_dir / \"amplitude.npy\", amplitude)\n",
    "            np.save(event_dir / \"times.npy\", times)\n",
    "\n",
    "            minus_time_range = [\n",
    "                analysis_metadata[\"pre_buffer\"],\n",
    "                analysis_metadata[\"pre_buffer\"]\n",
    "                + analysis_metadata[\"event_time_window\"],\n",
    "            ]\n",
    "\n",
    "            plus_time_range = [\n",
    "                analysis_metadata[\"pre_buffer\"]\n",
    "                + analysis_metadata[\"event_time_window\"]\n",
    "                + analysis_metadata[\"mid_buffer\"],\n",
    "                analysis_metadata[\"pre_buffer\"]\n",
    "                + analysis_metadata[\"event_time_window\"]\n",
    "                + analysis_metadata[\"mid_buffer\"]\n",
    "                + analysis_metadata[\"forecast_time_window\"],\n",
    "            ]\n",
    "\n",
    "            a_minus = amplitude[\n",
    "                (times >= minus_time_range[0]) & (times <= minus_time_range[1])\n",
    "            ]\n",
    "            a_plus = amplitude[\n",
    "                (times >= plus_time_range[0]) & (times <= plus_time_range[1])\n",
    "            ]\n",
    "\n",
    "            a_max_minus.append(\n",
    "                np.max(a_minus)\n",
    "            )  # note that the instrument response is removed, then we detrend, and hi\n",
    "            a_max_plus.append(np.max(a_plus))\n",
    "\n",
    "        except Exception as e:\n",
    "            print(f\"Error dowloading event {i}: {e}\")\n",
    "\n",
    "        i += 1"
   ]
  },
  {
   "cell_type": "code",
   "execution_count": null,
   "metadata": {},
   "outputs": [],
   "source": [
    "np.save(data_dir / \"a_max_minus.npy\", np.array(a_max_minus))\n",
    "np.save(data_dir / \"a_max_plus.npy\", np.array(a_max_plus))"
   ]
  },
  {
   "cell_type": "code",
   "execution_count": null,
   "metadata": {},
   "outputs": [
    {
     "data": {
      "text/plain": [
       "<matplotlib.lines.Line2D at 0x7f6039a6ccb0>"
      ]
     },
     "execution_count": 30,
     "metadata": {},
     "output_type": "execute_result"
    },
    {
     "data": {
      "image/png": "[encoded data removed]",
      "text/plain": [
       "<Figure size 600x900 with 2 Axes>"
      ]
     },
     "metadata": {},
     "output_type": "display_data"
    }
   ],
   "source": [
    "fig, ax = plt.subplots(2,1, sharex=True, figsize=(4, 6), dpi=150)\n",
    "ax[0].scatter(np.array(a_max_minus), np.array(a_max_plus), s=0.5)\n",
    "ax[0].set(\n",
    "    xscale=\"log\", \n",
    "    yscale=\"log\",\n",
    "    ylabel=\"Max Amplitude Post-Event\",\n",
    ")\n",
    "\n",
    "ax[1].scatter(np.array(a_max_minus), np.array(a_max_plus)/np.array(a_max_minus), s=0.5)\n",
    "ax[1].set(\n",
    "    xscale=\"log\", \n",
    "    yscale=\"log\",\n",
    "    xlabel=\"Max Amplitude Pre-Event\",\n",
    "    ylabel=\"Post / Pre\",\n",
    ")\n",
    "ax[1].axhline(1, color=\"k\", linestyle=\"--\", lw=0.5)\n",
    "\n"
   ]
  },
  {
   "cell_type": "code",
   "execution_count": null,
   "metadata": {},
   "outputs": [],
   "source": [
    "# This goes in analysis file\n",
    "\n",
    "# for each file in REPO \n",
    "\n",
    "# load stream\n",
    "\n",
    "# split into parts\n",
    "\n",
    "# calculate shaking intensity (e.g. PGV)"
   ]
  }
 ],
 "metadata": {
  "kernelspec": {
   "display_name": "covseisnet",
   "language": "python",
   "name": "python3"
  },
  "language_info": {
   "codemirror_mode": {
    "name": "ipython",
    "version": 3
   },
   "file_extension": ".py",
   "mimetype": "text/x-python",
   "name": "python",
   "nbconvert_exporter": "python",
   "pygments_lexer": "ipython3",
   "version": "3.12.9"
  }
 },
 "nbformat": 4,
 "nbformat_minor": 2
}
