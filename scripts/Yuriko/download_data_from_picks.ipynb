{
 "cells": [
  {
   "cell_type": "code",
   "execution_count": 26,
   "metadata": {},
   "outputs": [
    {
     "name": "stdout",
     "output_type": "stream",
     "text": [
      "The autoreload extension is already loaded. To reload it, use:\n",
      "  %reload_ext autoreload\n"
     ]
    }
   ],
   "source": [
    "%load_ext autoreload\n",
    "%autoreload 2\n",
    "import numpy as np\n",
    "from obspy import UTCDateTime\n",
    "from matplotlib import pyplot as plt\n",
    "import ground_motion_qh\n",
    "from ground_motion_qh.get_waveforms import get_stream_multiple_stations, raw_stream_to_amplitude_and_times\n",
    "import os\n",
    "from pathlib import Path\n",
    "from pprint import pprint\n",
    "import pickle\n",
    "\n",
    "base_dir = Path(ground_motion_qh.__file__).parent.parent"
   ]
  },
  {
   "cell_type": "code",
   "execution_count": 27,
   "metadata": {},
   "outputs": [],
   "source": [
    "import pandas as pd\n",
    "# ADD YOUR PICKS HERE:\n",
    "#!!!!specify station and pickfile!!!!\n",
    "stn='KNW'\n",
    "#pick_fn='/home/yiwasak2/QuakeHack/GroundMotion_QH/All_magnitude.csv'\n",
    "pick_fn='/home/yiwasak2/RECAST2/Picks/SAF/Single_station/QuakeHack/All_magnitude_minmag-1.0_KNW.csv'\n",
    "\n",
    "#specify minimum magnitude\n",
    "min_mag=2.0\n",
    "\n",
    "#waveform will be saved in the following directory\n",
    "download_name = \"ANZA_%s_1994_M%.1f_Picks\" % (stn,min_mag)"
   ]
  },
  {
   "cell_type": "code",
   "execution_count": 28,
   "metadata": {},
   "outputs": [
    {
     "name": "stdout",
     "output_type": "stream",
     "text": [
      "         id                         time  pstime       mag            amp  \\\n",
      "68       68  2015-01-10T23:29:03.905714Z    4.51  2.455233  134825.000000   \n",
      "118     118  2015-01-18T13:23:44.797143Z    6.39  3.361051  343233.000000   \n",
      "122     122  2015-01-18T15:52:26.805714Z    6.33  2.052887    3753.961794   \n",
      "151     151  2015-01-22T15:53:57.425714Z    4.86  2.016932   10745.383909   \n",
      "169     169  2015-01-25T17:37:22.674286Z    5.15  2.421546   49507.000000   \n",
      "...     ...                          ...     ...       ...            ...   \n",
      "18513  4989  2023-12-04T18:24:13.478571Z    4.56  2.468508  139010.000000   \n",
      "18528  5004  2023-12-07T20:11:53.852857Z    3.55  2.073499   91981.000000   \n",
      "18586  5062  2023-12-20T20:07:39.320000Z    4.83  2.013725   11029.265266   \n",
      "18594  5070  2023-12-23T15:42:09.034286Z    5.92  2.371810   44150.000000   \n",
      "18645  5121  2023-12-31T10:08:43.717143Z    5.41  2.306997   20236.000000   \n",
      "\n",
      "         p_prob    s_prob   mod_amp                    amp_time1  \\\n",
      "68     0.943068  0.892215  2.265858  2015-01-10T23:29:13.830000Z   \n",
      "118    0.927527  0.813868  5.768345  2015-01-18T13:23:58.970000Z   \n",
      "122    0.895134  0.790845  0.283718  2015-01-18T15:52:33.030000Z   \n",
      "151    0.893595  0.613022  0.825909  2015-01-22T15:54:01.970000Z   \n",
      "169    0.951968  0.828948  1.050864  2015-01-25T17:37:34.090000Z   \n",
      "...         ...       ...       ...                          ...   \n",
      "18513  0.963673  0.858873  2.336190  2023-12-04T18:24:24.050000Z   \n",
      "18528  0.946862  0.835755  2.363193  2023-12-07T20:12:01.640000Z   \n",
      "18586  0.740655  0.918415  0.819832  2023-12-20T20:07:43.830000Z   \n",
      "18594  0.945830  0.614933  0.937153  2023-12-23T15:42:22.470000Z   \n",
      "18645  0.970214  0.877050  0.807229  2023-12-31T10:08:55.560000Z   \n",
      "\n",
      "                            p_time                       s_time  \n",
      "68     2015-01-10T23:29:09.060000Z  2015-01-10T23:29:13.570000Z  \n",
      "118    2015-01-18T13:23:52.100000Z  2015-01-18T13:23:58.490000Z  \n",
      "122    2015-01-18T15:52:34.040000Z  2015-01-18T15:52:40.370000Z  \n",
      "151    2015-01-22T15:54:02.980000Z  2015-01-22T15:54:07.840000Z  \n",
      "169    2015-01-25T17:37:28.560000Z  2015-01-25T17:37:33.710000Z  \n",
      "...                            ...                          ...  \n",
      "18513  2023-12-04T18:24:18.690000Z  2023-12-04T18:24:23.250000Z  \n",
      "18528  2023-12-07T20:11:57.910000Z  2023-12-07T20:12:01.460000Z  \n",
      "18586  2023-12-20T20:07:44.840000Z  2023-12-20T20:07:49.670000Z  \n",
      "18594  2023-12-23T15:42:15.800000Z  2023-12-23T15:42:21.720000Z  \n",
      "18645  2023-12-31T10:08:49.900000Z  2023-12-31T10:08:55.310000Z  \n",
      "\n",
      "[1313 rows x 11 columns]\n"
     ]
    }
   ],
   "source": [
    "\n",
    "pick_df=pd.read_csv(pick_fn, index_col=0)\n",
    "pick_df=pick_df[(pick_df['mag']>=min_mag)]\n",
    "for index,row in pick_df.iterrows():\n",
    "    pick_df.loc[index,'time']=UTCDateTime(row['time'])\n",
    "\n",
    "pick_times = pick_df['time'].values #...or whatever as a numpy datetime array\n",
    "print(pick_df)"
   ]
  },
  {
   "cell_type": "code",
   "execution_count": 29,
   "metadata": {},
   "outputs": [],
   "source": [
    "\n",
    "\n",
    "# check if the folder already exists in the raw data folder\n",
    "data_dir = base_dir / \"data\" / \"raw_data\" / download_name\n",
    "if data_dir.exists():\n",
    "    print(f\"Folder {download_name} already exists in the raw data folder.\")\n",
    "\n",
    "# MAKE SURE TO CHANGE STATION LOCATION ALONG WITH THE STATION NAME!\n",
    "station_metadata = dict(\n",
    "    stname = [ stn ],\n",
    "    network = \"AZ\",\n",
    "    org = \"IRIS\",\n",
    "    latitude = 33.7141,\n",
    "    longitude = -116.7119,\n",
    "    start_time = '1982-10-01',\n",
    "    number_of_tries = 2,\n",
    ")\n",
    "\n",
    "# explanation of buffers:\n",
    "\n",
    "# (hypocenter) t1                                                                                            t2\n",
    "# t0 time shift    pre-buffer     event time window     mid buffer     forecast time window      post buffer\n",
    "# |------------||--------------||-------------------||--------------||---------- ... ---------||-------------|\n",
    "\n",
    "analysis_metadata = dict(\n",
    "    mid_buffer = 20,\n",
    "    forecast_time_window = 60*60,\n",
    "    event_time_window = 30,\n",
    "    shift_times = False,\n",
    ")\n",
    "\n",
    "analysis_metadata[\"pre_buffer\"] = 3*0.05 * analysis_metadata[\"forecast_time_window\"] + analysis_metadata[\"event_time_window\"] + analysis_metadata[\"mid_buffer\"]\n",
    "analysis_metadata[\"post_buffer\"] = 3*0.05 * analysis_metadata[\"forecast_time_window\"] + analysis_metadata[\"event_time_window\"] + analysis_metadata[\"mid_buffer\"]\n"
   ]
  },
  {
   "cell_type": "code",
   "execution_count": 30,
   "metadata": {},
   "outputs": [
    {
     "name": "stdout",
     "output_type": "stream",
     "text": [
      "{'event_time_window': 30,\n",
      " 'forecast_time_window': 3600,\n",
      " 'mid_buffer': 20,\n",
      " 'post_buffer': 590.0000000000001,\n",
      " 'pre_buffer': 590.0000000000001,\n",
      " 'shift_times': False}\n"
     ]
    }
   ],
   "source": [
    "pprint(analysis_metadata, width=1)"
   ]
  },
  {
   "cell_type": "code",
   "execution_count": 31,
   "metadata": {},
   "outputs": [],
   "source": [
    "metadata = dict(\n",
    "    analysis_metadata = analysis_metadata,\n",
    "    station_metadata = station_metadata,\n",
    ")\n",
    "\n",
    "# create a data directory with and save the metadata\n",
    "data_dir = base_dir / \"data\" / \"raw_data\" / download_name\n",
    "os.makedirs(data_dir, exist_ok=True)\n",
    "np.save(data_dir / \"metadata.npy\", metadata)"
   ]
  },
  {
   "cell_type": "code",
   "execution_count": 32,
   "metadata": {},
   "outputs": [],
   "source": [
    "minus_time_range = [\n",
    "    analysis_metadata[\"pre_buffer\"],\n",
    "    analysis_metadata[\"pre_buffer\"] + analysis_metadata[\"event_time_window\"]\n",
    "]\n",
    "\n",
    "plus_time_range = [\n",
    "    analysis_metadata[\"pre_buffer\"] + analysis_metadata[\"event_time_window\"]+ analysis_metadata[\"mid_buffer\"],\n",
    "    analysis_metadata[\"pre_buffer\"] + analysis_metadata[\"event_time_window\"] + analysis_metadata[\"mid_buffer\"] +analysis_metadata[\"forecast_time_window\"]\n",
    "]"
   ]
  },
  {
   "cell_type": "code",
   "execution_count": 33,
   "metadata": {},
   "outputs": [
    {
     "name": "stdout",
     "output_type": "stream",
     "text": [
      "1313\n",
      "[UTCDateTime(2015, 1, 10, 23, 29, 3, 905714)\n",
      " UTCDateTime(2015, 1, 18, 13, 23, 44, 797143)\n",
      " UTCDateTime(2015, 1, 18, 15, 52, 26, 805714) ...\n",
      " UTCDateTime(2023, 12, 20, 20, 7, 39, 320000)\n",
      " UTCDateTime(2023, 12, 23, 15, 42, 9, 34286)\n",
      " UTCDateTime(2023, 12, 31, 10, 8, 43, 717143)]\n"
     ]
    }
   ],
   "source": [
    "print(pick_times.size)\n",
    "print(pick_times)"
   ]
  },
  {
   "cell_type": "code",
   "execution_count": 34,
   "metadata": {},
   "outputs": [
    {
     "name": "stdout",
     "output_type": "stream",
     "text": [
      "Dowloading event 0: 2015-01-10T23:29:03.905714Z\n"
     ]
    },
    {
     "name": "stderr",
     "output_type": "stream",
     "text": [
      "ERROR:root:Error removing response: No response information found. Use `inventory` parameter to specify an inventory with response information. \\n will connect to client to download response\n"
     ]
    },
    {
     "name": "stdout",
     "output_type": "stream",
     "text": [
      "{'KNW': <obspy.core.stream.Stream object at 0x7f18f8375370>}\n"
     ]
    },
    {
     "name": "stderr",
     "output_type": "stream",
     "text": [
      "ERROR:root:Error removing response: No response information found. Use `inventory` parameter to specify an inventory with response information. \\n will connect to client to download response\n"
     ]
    },
    {
     "name": "stdout",
     "output_type": "stream",
     "text": [
      "{'KNW': <obspy.core.stream.Stream object at 0x7f18955d31c0>}\n",
      "Dowloading event 1: 2015-01-18T13:23:44.797143Z\n"
     ]
    },
    {
     "name": "stderr",
     "output_type": "stream",
     "text": [
      "ERROR:root:Error removing response: No response information found. Use `inventory` parameter to specify an inventory with response information. \\n will connect to client to download response\n"
     ]
    },
    {
     "name": "stdout",
     "output_type": "stream",
     "text": [
      "{'KNW': <obspy.core.stream.Stream object at 0x7f18f8198400>}\n"
     ]
    },
    {
     "name": "stderr",
     "output_type": "stream",
     "text": [
      "ERROR:root:Error removing response: No response information found. Use `inventory` parameter to specify an inventory with response information. \\n will connect to client to download response\n"
     ]
    },
    {
     "name": "stdout",
     "output_type": "stream",
     "text": [
      "{'KNW': <obspy.core.stream.Stream object at 0x7f1895871220>}\n",
      "Dowloading event 2: 2015-01-18T15:52:26.805714Z\n"
     ]
    },
    {
     "name": "stderr",
     "output_type": "stream",
     "text": [
      "ERROR:root:Error removing response: No response information found. Use `inventory` parameter to specify an inventory with response information. \\n will connect to client to download response\n"
     ]
    },
    {
     "name": "stdout",
     "output_type": "stream",
     "text": [
      "{'KNW': <obspy.core.stream.Stream object at 0x7f189584dd60>}\n"
     ]
    },
    {
     "name": "stderr",
     "output_type": "stream",
     "text": [
      "ERROR:root:Error removing response: No response information found. Use `inventory` parameter to specify an inventory with response information. \\n will connect to client to download response\n"
     ]
    },
    {
     "name": "stdout",
     "output_type": "stream",
     "text": [
      "{'KNW': <obspy.core.stream.Stream object at 0x7f18f8198190>}\n",
      "Dowloading event 3: 2015-01-22T15:53:57.425714Z\n"
     ]
    },
    {
     "name": "stderr",
     "output_type": "stream",
     "text": [
      "ERROR:root:Error removing response: No response information found. Use `inventory` parameter to specify an inventory with response information. \\n will connect to client to download response\n"
     ]
    },
    {
     "name": "stdout",
     "output_type": "stream",
     "text": [
      "{'KNW': <obspy.core.stream.Stream object at 0x7f18945c5040>}\n"
     ]
    },
    {
     "name": "stderr",
     "output_type": "stream",
     "text": [
      "ERROR:root:Error removing response: No response information found. Use `inventory` parameter to specify an inventory with response information. \\n will connect to client to download response\n"
     ]
    },
    {
     "name": "stdout",
     "output_type": "stream",
     "text": [
      "{'KNW': <obspy.core.stream.Stream object at 0x7f1895870d60>}\n",
      "Dowloading event 4: 2015-01-25T17:37:22.674286Z\n"
     ]
    },
    {
     "name": "stderr",
     "output_type": "stream",
     "text": [
      "ERROR:root:Error removing response: No response information found. Use `inventory` parameter to specify an inventory with response information. \\n will connect to client to download response\n"
     ]
    },
    {
     "name": "stdout",
     "output_type": "stream",
     "text": [
      "{'KNW': <obspy.core.stream.Stream object at 0x7f18f8013af0>}\n"
     ]
    },
    {
     "name": "stderr",
     "output_type": "stream",
     "text": [
      "ERROR:root:Error removing response: No response information found. Use `inventory` parameter to specify an inventory with response information. \\n will connect to client to download response\n"
     ]
    },
    {
     "name": "stdout",
     "output_type": "stream",
     "text": [
      "{'KNW': <obspy.core.stream.Stream object at 0x7f1895544340>}\n",
      "Dowloading event 5: 2015-02-01T15:54:33.304286Z\n"
     ]
    },
    {
     "name": "stderr",
     "output_type": "stream",
     "text": [
      "ERROR:root:Error removing response: No response information found. Use `inventory` parameter to specify an inventory with response information. \\n will connect to client to download response\n"
     ]
    },
    {
     "name": "stdout",
     "output_type": "stream",
     "text": [
      "{'KNW': <obspy.core.stream.Stream object at 0x7f18950bfdf0>}\n"
     ]
    },
    {
     "name": "stderr",
     "output_type": "stream",
     "text": [
      "ERROR:root:Error removing response: No response information found. Use `inventory` parameter to specify an inventory with response information. \\n will connect to client to download response\n"
     ]
    },
    {
     "name": "stdout",
     "output_type": "stream",
     "text": [
      "{'KNW': <obspy.core.stream.Stream object at 0x7f1894e9c940>}\n",
      "Dowloading event 6: 2015-02-01T16:32:08.512857Z\n"
     ]
    },
    {
     "name": "stderr",
     "output_type": "stream",
     "text": [
      "ERROR:root:Error removing response: No response information found. Use `inventory` parameter to specify an inventory with response information. \\n will connect to client to download response\n"
     ]
    },
    {
     "name": "stdout",
     "output_type": "stream",
     "text": [
      "{'KNW': <obspy.core.stream.Stream object at 0x7f18956637c0>}\n"
     ]
    },
    {
     "name": "stderr",
     "output_type": "stream",
     "text": [
      "ERROR:root:Error removing response: No response information found. Use `inventory` parameter to specify an inventory with response information. \\n will connect to client to download response\n"
     ]
    },
    {
     "name": "stdout",
     "output_type": "stream",
     "text": [
      "{'KNW': <obspy.core.stream.Stream object at 0x7f18f8375fd0>}\n",
      "Dowloading event 7: 2015-02-01T22:08:40.585714Z\n"
     ]
    },
    {
     "name": "stderr",
     "output_type": "stream",
     "text": [
      "ERROR:root:Error removing response: No response information found. Use `inventory` parameter to specify an inventory with response information. \\n will connect to client to download response\n"
     ]
    },
    {
     "name": "stdout",
     "output_type": "stream",
     "text": [
      "{'KNW': <obspy.core.stream.Stream object at 0x7f18950ae760>}\n"
     ]
    },
    {
     "name": "stderr",
     "output_type": "stream",
     "text": [
      "ERROR:root:Error removing response: No response information found. Use `inventory` parameter to specify an inventory with response information. \\n will connect to client to download response\n"
     ]
    },
    {
     "name": "stdout",
     "output_type": "stream",
     "text": [
      "{'KNW': <obspy.core.stream.Stream object at 0x7f18950d11c0>}\n",
      "Dowloading event 8: 2015-02-10T22:11:55.665714Z\n"
     ]
    },
    {
     "name": "stderr",
     "output_type": "stream",
     "text": [
      "ERROR:root:Error removing response: No response information found. Use `inventory` parameter to specify an inventory with response information. \\n will connect to client to download response\n"
     ]
    },
    {
     "name": "stdout",
     "output_type": "stream",
     "text": [
      "{'KNW': <obspy.core.stream.Stream object at 0x7f18f84639d0>}\n"
     ]
    },
    {
     "name": "stderr",
     "output_type": "stream",
     "text": [
      "ERROR:root:Error removing response: No response information found. Use `inventory` parameter to specify an inventory with response information. \\n will connect to client to download response\n"
     ]
    },
    {
     "name": "stdout",
     "output_type": "stream",
     "text": [
      "{'KNW': <obspy.core.stream.Stream object at 0x7f1895999fa0>}\n",
      "Dowloading event 9: 2015-03-05T21:41:56.562857Z\n"
     ]
    },
    {
     "name": "stderr",
     "output_type": "stream",
     "text": [
      "ERROR:root:Error removing response: No response information found. Use `inventory` parameter to specify an inventory with response information. \\n will connect to client to download response\n"
     ]
    },
    {
     "name": "stdout",
     "output_type": "stream",
     "text": [
      "{'KNW': <obspy.core.stream.Stream object at 0x7f1894560f10>}\n"
     ]
    },
    {
     "name": "stderr",
     "output_type": "stream",
     "text": [
      "ERROR:root:Error removing response: No response information found. Use `inventory` parameter to specify an inventory with response information. \\n will connect to client to download response\n"
     ]
    },
    {
     "name": "stdout",
     "output_type": "stream",
     "text": [
      "{'KNW': <obspy.core.stream.Stream object at 0x7f18959cedf0>}\n",
      "Dowloading event 10: 2015-03-06T15:51:15.844286Z\n"
     ]
    },
    {
     "name": "stderr",
     "output_type": "stream",
     "text": [
      "ERROR:root:Error removing response: No response information found. Use `inventory` parameter to specify an inventory with response information. \\n will connect to client to download response\n"
     ]
    },
    {
     "name": "stdout",
     "output_type": "stream",
     "text": [
      "{'KNW': <obspy.core.stream.Stream object at 0x7f1894f9a340>}\n"
     ]
    },
    {
     "name": "stderr",
     "output_type": "stream",
     "text": [
      "ERROR:root:Error removing response: No response information found. Use `inventory` parameter to specify an inventory with response information. \\n will connect to client to download response\n"
     ]
    },
    {
     "name": "stdout",
     "output_type": "stream",
     "text": [
      "{'KNW': <obspy.core.stream.Stream object at 0x7f1895982310>}\n",
      "Dowloading event 11: 2015-03-09T19:49:59.622857Z\n"
     ]
    },
    {
     "name": "stderr",
     "output_type": "stream",
     "text": [
      "ERROR:root:Error removing response: No response information found. Use `inventory` parameter to specify an inventory with response information. \\n will connect to client to download response\n"
     ]
    },
    {
     "name": "stdout",
     "output_type": "stream",
     "text": [
      "{'KNW': <obspy.core.stream.Stream object at 0x7f18950b2a90>}\n"
     ]
    },
    {
     "name": "stderr",
     "output_type": "stream",
     "text": [
      "ERROR:root:Error removing response: No response information found. Use `inventory` parameter to specify an inventory with response information. \\n will connect to client to download response\n"
     ]
    },
    {
     "name": "stdout",
     "output_type": "stream",
     "text": [
      "{'KNW': <obspy.core.stream.Stream object at 0x7f18f820d4c0>}\n",
      "Dowloading event 12: 2015-03-09T20:14:50.924286Z\n"
     ]
    },
    {
     "name": "stderr",
     "output_type": "stream",
     "text": [
      "ERROR:root:Error removing response: No response information found. Use `inventory` parameter to specify an inventory with response information. \\n will connect to client to download response\n"
     ]
    },
    {
     "name": "stdout",
     "output_type": "stream",
     "text": [
      "{'KNW': <obspy.core.stream.Stream object at 0x7f18945c5d00>}\n"
     ]
    },
    {
     "name": "stderr",
     "output_type": "stream",
     "text": [
      "ERROR:root:Error removing response: No response information found. Use `inventory` parameter to specify an inventory with response information. \\n will connect to client to download response\n"
     ]
    },
    {
     "name": "stdout",
     "output_type": "stream",
     "text": [
      "{'KNW': <obspy.core.stream.Stream object at 0x7f1895a4e490>}\n",
      "Dowloading event 13: 2015-03-17T16:09:23.991429Z\n"
     ]
    },
    {
     "name": "stderr",
     "output_type": "stream",
     "text": [
      "ERROR:root:Error removing response: No response information found. Use `inventory` parameter to specify an inventory with response information. \\n will connect to client to download response\n"
     ]
    },
    {
     "name": "stdout",
     "output_type": "stream",
     "text": [
      "{'KNW': <obspy.core.stream.Stream object at 0x7f1894ebd1f0>}\n"
     ]
    },
    {
     "name": "stderr",
     "output_type": "stream",
     "text": [
      "ERROR:root:Error removing response: No response information found. Use `inventory` parameter to specify an inventory with response information. \\n will connect to client to download response\n"
     ]
    },
    {
     "name": "stdout",
     "output_type": "stream",
     "text": [
      "{'KNW': <obspy.core.stream.Stream object at 0x7f18f83fa520>}\n",
      "Dowloading event 14: 2015-03-21T16:01:27.614286Z\n"
     ]
    },
    {
     "name": "stderr",
     "output_type": "stream",
     "text": [
      "ERROR:root:Error removing response: No response information found. Use `inventory` parameter to specify an inventory with response information. \\n will connect to client to download response\n"
     ]
    },
    {
     "name": "stdout",
     "output_type": "stream",
     "text": [
      "{'KNW': <obspy.core.stream.Stream object at 0x7f18955d5610>}\n"
     ]
    },
    {
     "name": "stderr",
     "output_type": "stream",
     "text": [
      "ERROR:root:Error removing response: No response information found. Use `inventory` parameter to specify an inventory with response information. \\n will connect to client to download response\n"
     ]
    },
    {
     "name": "stdout",
     "output_type": "stream",
     "text": [
      "{'KNW': <obspy.core.stream.Stream object at 0x7f189442d3d0>}\n",
      "Dowloading event 15: 2015-04-05T12:56:56.042857Z\n"
     ]
    },
    {
     "name": "stderr",
     "output_type": "stream",
     "text": [
      "ERROR:root:Error removing response: No response information found. Use `inventory` parameter to specify an inventory with response information. \\n will connect to client to download response\n"
     ]
    },
    {
     "name": "stdout",
     "output_type": "stream",
     "text": [
      "{'KNW': <obspy.core.stream.Stream object at 0x7f18f8300df0>}\n"
     ]
    },
    {
     "name": "stderr",
     "output_type": "stream",
     "text": [
      "ERROR:root:Error removing response: No response information found. Use `inventory` parameter to specify an inventory with response information. \\n will connect to client to download response\n"
     ]
    },
    {
     "name": "stdout",
     "output_type": "stream",
     "text": [
      "{'KNW': <obspy.core.stream.Stream object at 0x7f18f8375cd0>}\n",
      "Dowloading event 16: 2015-04-11T04:22:02.781429Z\n"
     ]
    },
    {
     "name": "stderr",
     "output_type": "stream",
     "text": [
      "ERROR:root:Error removing response: No response information found. Use `inventory` parameter to specify an inventory with response information. \\n will connect to client to download response\n"
     ]
    },
    {
     "name": "stdout",
     "output_type": "stream",
     "text": [
      "{'KNW': <obspy.core.stream.Stream object at 0x7f18950bfeb0>}\n"
     ]
    },
    {
     "name": "stderr",
     "output_type": "stream",
     "text": [
      "ERROR:root:Error removing response: No response information found. Use `inventory` parameter to specify an inventory with response information. \\n will connect to client to download response\n"
     ]
    },
    {
     "name": "stdout",
     "output_type": "stream",
     "text": [
      "{'KNW': <obspy.core.stream.Stream object at 0x7f189565a4c0>}\n",
      "Dowloading event 17: 2015-04-19T04:35:46.940000Z\n"
     ]
    },
    {
     "name": "stderr",
     "output_type": "stream",
     "text": [
      "ERROR:root:Error removing response: No response information found. Use `inventory` parameter to specify an inventory with response information. \\n will connect to client to download response\n"
     ]
    },
    {
     "name": "stdout",
     "output_type": "stream",
     "text": [
      "{'KNW': <obspy.core.stream.Stream object at 0x7f1895a7c100>}\n"
     ]
    },
    {
     "name": "stderr",
     "output_type": "stream",
     "text": [
      "ERROR:root:Error removing response: No response information found. Use `inventory` parameter to specify an inventory with response information. \\n will connect to client to download response\n"
     ]
    },
    {
     "name": "stdout",
     "output_type": "stream",
     "text": [
      "{'KNW': <obspy.core.stream.Stream object at 0x7f1895705c70>}\n",
      "Dowloading event 18: 2015-04-25T10:33:15.622857Z\n"
     ]
    },
    {
     "name": "stderr",
     "output_type": "stream",
     "text": [
      "ERROR:root:Error removing response: No response information found. Use `inventory` parameter to specify an inventory with response information. \\n will connect to client to download response\n"
     ]
    },
    {
     "name": "stdout",
     "output_type": "stream",
     "text": [
      "{'KNW': <obspy.core.stream.Stream object at 0x7f1894f42520>}\n"
     ]
    },
    {
     "name": "stderr",
     "output_type": "stream",
     "text": [
      "ERROR:root:Error removing response: No response information found. Use `inventory` parameter to specify an inventory with response information. \\n will connect to client to download response\n"
     ]
    },
    {
     "name": "stdout",
     "output_type": "stream",
     "text": [
      "{'KNW': <obspy.core.stream.Stream object at 0x7f189567c190>}\n",
      "Dowloading event 19: 2015-04-28T22:35:58.185714Z\n"
     ]
    },
    {
     "name": "stderr",
     "output_type": "stream",
     "text": [
      "ERROR:root:Error removing response: No response information found. Use `inventory` parameter to specify an inventory with response information. \\n will connect to client to download response\n"
     ]
    },
    {
     "name": "stdout",
     "output_type": "stream",
     "text": [
      "{'KNW': <obspy.core.stream.Stream object at 0x7f1895982790>}\n"
     ]
    },
    {
     "name": "stderr",
     "output_type": "stream",
     "text": [
      "ERROR:root:Error removing response: No response information found. Use `inventory` parameter to specify an inventory with response information. \\n will connect to client to download response\n"
     ]
    },
    {
     "name": "stdout",
     "output_type": "stream",
     "text": [
      "{'KNW': <obspy.core.stream.Stream object at 0x7f18f8489610>}\n",
      "Dowloading event 20: 2015-05-06T07:39:47.814286Z\n"
     ]
    },
    {
     "name": "stderr",
     "output_type": "stream",
     "text": [
      "ERROR:root:Error removing response: No response information found. Use `inventory` parameter to specify an inventory with response information. \\n will connect to client to download response\n"
     ]
    },
    {
     "name": "stdout",
     "output_type": "stream",
     "text": [
      "{'KNW': <obspy.core.stream.Stream object at 0x7f18f820d7c0>}\n"
     ]
    },
    {
     "name": "stderr",
     "output_type": "stream",
     "text": [
      "ERROR:root:Error removing response: No response information found. Use `inventory` parameter to specify an inventory with response information. \\n will connect to client to download response\n"
     ]
    },
    {
     "name": "stdout",
     "output_type": "stream",
     "text": [
      "{'KNW': <obspy.core.stream.Stream object at 0x7f18959ce790>}\n",
      "Dowloading event 21: 2015-05-06T09:19:32.437143Z\n"
     ]
    },
    {
     "name": "stderr",
     "output_type": "stream",
     "text": [
      "ERROR:root:Error removing response: No response information found. Use `inventory` parameter to specify an inventory with response information. \\n will connect to client to download response\n"
     ]
    },
    {
     "name": "stdout",
     "output_type": "stream",
     "text": [
      "{'KNW': <obspy.core.stream.Stream object at 0x7f1895132730>}\n"
     ]
    },
    {
     "name": "stderr",
     "output_type": "stream",
     "text": [
      "ERROR:root:Error removing response: No response information found. Use `inventory` parameter to specify an inventory with response information. \\n will connect to client to download response\n"
     ]
    },
    {
     "name": "stdout",
     "output_type": "stream",
     "text": [
      "{'KNW': <obspy.core.stream.Stream object at 0x7f189573fdf0>}\n",
      "Dowloading event 22: 2015-05-11T23:23:09.467143Z\n"
     ]
    },
    {
     "name": "stderr",
     "output_type": "stream",
     "text": [
      "ERROR:root:Error removing response: No response information found. Use `inventory` parameter to specify an inventory with response information. \\n will connect to client to download response\n"
     ]
    },
    {
     "name": "stdout",
     "output_type": "stream",
     "text": [
      "{'KNW': <obspy.core.stream.Stream object at 0x7f18955b4f70>}\n"
     ]
    },
    {
     "name": "stderr",
     "output_type": "stream",
     "text": [
      "ERROR:root:Error removing response: No response information found. Use `inventory` parameter to specify an inventory with response information. \\n will connect to client to download response\n"
     ]
    },
    {
     "name": "stdout",
     "output_type": "stream",
     "text": [
      "{'KNW': <obspy.core.stream.Stream object at 0x7f18950c82e0>}\n",
      "Dowloading event 23: 2015-05-15T09:41:50.748571Z\n"
     ]
    },
    {
     "name": "stderr",
     "output_type": "stream",
     "text": [
      "ERROR:root:Error removing response: No response information found. Use `inventory` parameter to specify an inventory with response information. \\n will connect to client to download response\n"
     ]
    },
    {
     "name": "stdout",
     "output_type": "stream",
     "text": [
      "{'KNW': <obspy.core.stream.Stream object at 0x7f1895739040>}\n"
     ]
    },
    {
     "name": "stderr",
     "output_type": "stream",
     "text": [
      "ERROR:root:Error removing response: No response information found. Use `inventory` parameter to specify an inventory with response information. \\n will connect to client to download response\n"
     ]
    },
    {
     "name": "stdout",
     "output_type": "stream",
     "text": [
      "{'KNW': <obspy.core.stream.Stream object at 0x7f1894fa9280>}\n",
      "Dowloading event 24: 2015-05-15T16:52:01.365714Z\n"
     ]
    },
    {
     "name": "stderr",
     "output_type": "stream",
     "text": [
      "ERROR:root:Error removing response: No response information found. Use `inventory` parameter to specify an inventory with response information. \\n will connect to client to download response\n"
     ]
    },
    {
     "name": "stdout",
     "output_type": "stream",
     "text": [
      "{'KNW': <obspy.core.stream.Stream object at 0x7f1894517e80>}\n"
     ]
    },
    {
     "name": "stderr",
     "output_type": "stream",
     "text": [
      "ERROR:root:Error removing response: No response information found. Use `inventory` parameter to specify an inventory with response information. \\n will connect to client to download response\n"
     ]
    },
    {
     "name": "stdout",
     "output_type": "stream",
     "text": [
      "{'KNW': <obspy.core.stream.Stream object at 0x7f1895bce220>}\n",
      "Dowloading event 25: 2015-05-30T05:23:58.548571Z\n"
     ]
    },
    {
     "name": "stderr",
     "output_type": "stream",
     "text": [
      "ERROR:root:Error removing response: No response information found. Use `inventory` parameter to specify an inventory with response information. \\n will connect to client to download response\n"
     ]
    },
    {
     "name": "stdout",
     "output_type": "stream",
     "text": [
      "{'KNW': <obspy.core.stream.Stream object at 0x7f18953d2d00>}\n"
     ]
    },
    {
     "name": "stderr",
     "output_type": "stream",
     "text": [
      "ERROR:root:Error removing response: No response information found. Use `inventory` parameter to specify an inventory with response information. \\n will connect to client to download response\n"
     ]
    },
    {
     "name": "stdout",
     "output_type": "stream",
     "text": [
      "{'KNW': <obspy.core.stream.Stream object at 0x7f18950ae8b0>}\n",
      "Dowloading event 26: 2015-06-18T03:32:24.202857Z\n"
     ]
    },
    {
     "name": "stderr",
     "output_type": "stream",
     "text": [
      "ERROR:root:Error removing response: No response information found. Use `inventory` parameter to specify an inventory with response information. \\n will connect to client to download response\n"
     ]
    },
    {
     "name": "stdout",
     "output_type": "stream",
     "text": [
      "{'KNW': <obspy.core.stream.Stream object at 0x7f1894ebc820>}\n"
     ]
    },
    {
     "name": "stderr",
     "output_type": "stream",
     "text": [
      "ERROR:root:Error removing response: No response information found. Use `inventory` parameter to specify an inventory with response information. \\n will connect to client to download response\n"
     ]
    },
    {
     "name": "stdout",
     "output_type": "stream",
     "text": [
      "{'KNW': <obspy.core.stream.Stream object at 0x7f18950d6a00>}\n",
      "Dowloading event 27: 2015-06-25T12:38:15.902857Z\n"
     ]
    },
    {
     "name": "stderr",
     "output_type": "stream",
     "text": [
      "ERROR:root:Error removing response: No response information found. Use `inventory` parameter to specify an inventory with response information. \\n will connect to client to download response\n"
     ]
    },
    {
     "name": "stdout",
     "output_type": "stream",
     "text": [
      "{'KNW': <obspy.core.stream.Stream object at 0x7f18954280d0>}\n"
     ]
    },
    {
     "name": "stderr",
     "output_type": "stream",
     "text": [
      "ERROR:root:Error removing response: No response information found. Use `inventory` parameter to specify an inventory with response information. \\n will connect to client to download response\n"
     ]
    },
    {
     "name": "stdout",
     "output_type": "stream",
     "text": [
      "{'KNW': <obspy.core.stream.Stream object at 0x7f18f7fef8b0>}\n",
      "Dowloading event 28: 2015-07-11T07:10:37.998571Z\n"
     ]
    },
    {
     "name": "stderr",
     "output_type": "stream",
     "text": [
      "ERROR:root:Error removing response: No response information found. Use `inventory` parameter to specify an inventory with response information. \\n will connect to client to download response\n"
     ]
    },
    {
     "name": "stdout",
     "output_type": "stream",
     "text": [
      "{'KNW': <obspy.core.stream.Stream object at 0x7f18959821c0>}\n"
     ]
    },
    {
     "name": "stderr",
     "output_type": "stream",
     "text": [
      "ERROR:root:Error removing response: No response information found. Use `inventory` parameter to specify an inventory with response information. \\n will connect to client to download response\n"
     ]
    },
    {
     "name": "stdout",
     "output_type": "stream",
     "text": [
      "{'KNW': <obspy.core.stream.Stream object at 0x7f18956631c0>}\n",
      "Dowloading event 29: 2015-07-23T15:17:54.987143Z\n"
     ]
    },
    {
     "name": "stderr",
     "output_type": "stream",
     "text": [
      "ERROR:root:Error removing response: No response information found. Use `inventory` parameter to specify an inventory with response information. \\n will connect to client to download response\n"
     ]
    },
    {
     "name": "stdout",
     "output_type": "stream",
     "text": [
      "{'KNW': <obspy.core.stream.Stream object at 0x7f18f8300880>}\n"
     ]
    },
    {
     "name": "stderr",
     "output_type": "stream",
     "text": [
      "ERROR:root:Error removing response: No response information found. Use `inventory` parameter to specify an inventory with response information. \\n will connect to client to download response\n"
     ]
    },
    {
     "name": "stdout",
     "output_type": "stream",
     "text": [
      "{'KNW': <obspy.core.stream.Stream object at 0x7f18f80a1370>}\n",
      "Dowloading event 30: 2015-08-13T05:54:56.980000Z\n"
     ]
    },
    {
     "name": "stderr",
     "output_type": "stream",
     "text": [
      "ERROR:root:Error removing response: No response information found. Use `inventory` parameter to specify an inventory with response information. \\n will connect to client to download response\n"
     ]
    },
    {
     "name": "stdout",
     "output_type": "stream",
     "text": [
      "{'KNW': <obspy.core.stream.Stream object at 0x7f18950d1e50>}\n"
     ]
    },
    {
     "name": "stderr",
     "output_type": "stream",
     "text": [
      "ERROR:root:Error removing response: No response information found. Use `inventory` parameter to specify an inventory with response information. \\n will connect to client to download response\n"
     ]
    },
    {
     "name": "stdout",
     "output_type": "stream",
     "text": [
      "{'KNW': <obspy.core.stream.Stream object at 0x7f1894ed23a0>}\n",
      "Dowloading event 31: 2015-08-13T23:56:35.312857Z\n"
     ]
    },
    {
     "name": "stderr",
     "output_type": "stream",
     "text": [
      "ERROR:root:Error removing response: No response information found. Use `inventory` parameter to specify an inventory with response information. \\n will connect to client to download response\n"
     ]
    },
    {
     "name": "stdout",
     "output_type": "stream",
     "text": [
      "{'KNW': <obspy.core.stream.Stream object at 0x7f18f84a0e50>}\n"
     ]
    },
    {
     "name": "stderr",
     "output_type": "stream",
     "text": [
      "ERROR:root:Error removing response: No response information found. Use `inventory` parameter to specify an inventory with response information. \\n will connect to client to download response\n"
     ]
    },
    {
     "name": "stdout",
     "output_type": "stream",
     "text": [
      "{'KNW': <obspy.core.stream.Stream object at 0x7f1895af4df0>}\n",
      "Dowloading event 32: 2015-08-16T20:20:26.901429Z\n"
     ]
    },
    {
     "name": "stderr",
     "output_type": "stream",
     "text": [
      "ERROR:root:Error removing response: No response information found. Use `inventory` parameter to specify an inventory with response information. \\n will connect to client to download response\n"
     ]
    },
    {
     "name": "stdout",
     "output_type": "stream",
     "text": [
      "{'KNW': <obspy.core.stream.Stream object at 0x7f1894fbfca0>}\n"
     ]
    },
    {
     "name": "stderr",
     "output_type": "stream",
     "text": [
      "ERROR:root:Error removing response: No response information found. Use `inventory` parameter to specify an inventory with response information. \\n will connect to client to download response\n"
     ]
    },
    {
     "name": "stdout",
     "output_type": "stream",
     "text": [
      "{'KNW': <obspy.core.stream.Stream object at 0x7f18f7fef850>}\n",
      "Dowloading event 33: 2015-08-30T02:01:15.375714Z\n"
     ]
    },
    {
     "name": "stderr",
     "output_type": "stream",
     "text": [
      "ERROR:root:Error removing response: No response information found. Use `inventory` parameter to specify an inventory with response information. \\n will connect to client to download response\n"
     ]
    },
    {
     "name": "stdout",
     "output_type": "stream",
     "text": [
      "{'KNW': <obspy.core.stream.Stream object at 0x7f18f8198460>}\n"
     ]
    },
    {
     "name": "stderr",
     "output_type": "stream",
     "text": [
      "ERROR:root:Error removing response: No response information found. Use `inventory` parameter to specify an inventory with response information. \\n will connect to client to download response\n"
     ]
    },
    {
     "name": "stdout",
     "output_type": "stream",
     "text": [
      "{'KNW': <obspy.core.stream.Stream object at 0x7f18950ae310>}\n",
      "Dowloading event 34: 2015-08-30T02:59:15.144286Z\n"
     ]
    },
    {
     "name": "stderr",
     "output_type": "stream",
     "text": [
      "ERROR:root:Error removing response: No response information found. Use `inventory` parameter to specify an inventory with response information. \\n will connect to client to download response\n"
     ]
    },
    {
     "name": "stdout",
     "output_type": "stream",
     "text": [
      "{'KNW': <obspy.core.stream.Stream object at 0x7f1894eb3580>}\n"
     ]
    },
    {
     "name": "stderr",
     "output_type": "stream",
     "text": [
      "ERROR:root:Error removing response: No response information found. Use `inventory` parameter to specify an inventory with response information. \\n will connect to client to download response\n"
     ]
    },
    {
     "name": "stdout",
     "output_type": "stream",
     "text": [
      "{'KNW': <obspy.core.stream.Stream object at 0x7f1895982100>}\n",
      "Dowloading event 35: 2015-09-09T14:28:30.680000Z\n"
     ]
    },
    {
     "name": "stderr",
     "output_type": "stream",
     "text": [
      "ERROR:root:Error removing response: No response information found. Use `inventory` parameter to specify an inventory with response information. \\n will connect to client to download response\n"
     ]
    },
    {
     "name": "stdout",
     "output_type": "stream",
     "text": [
      "{'KNW': <obspy.core.stream.Stream object at 0x7f1895739040>}\n"
     ]
    },
    {
     "name": "stderr",
     "output_type": "stream",
     "text": [
      "ERROR:root:Error removing response: No response information found. Use `inventory` parameter to specify an inventory with response information. \\n will connect to client to download response\n"
     ]
    },
    {
     "name": "stdout",
     "output_type": "stream",
     "text": [
      "{'KNW': <obspy.core.stream.Stream object at 0x7f18953dda30>}\n",
      "Dowloading event 36: 2015-09-14T21:45:57.322857Z\n"
     ]
    },
    {
     "name": "stderr",
     "output_type": "stream",
     "text": [
      "ERROR:root:Error removing response: No response information found. Use `inventory` parameter to specify an inventory with response information. \\n will connect to client to download response\n"
     ]
    },
    {
     "name": "stdout",
     "output_type": "stream",
     "text": [
      "{'KNW': <obspy.core.stream.Stream object at 0x7f18e8b91a60>}\n"
     ]
    },
    {
     "name": "stderr",
     "output_type": "stream",
     "text": [
      "ERROR:root:Error removing response: No response information found. Use `inventory` parameter to specify an inventory with response information. \\n will connect to client to download response\n"
     ]
    },
    {
     "name": "stdout",
     "output_type": "stream",
     "text": [
      "{'KNW': <obspy.core.stream.Stream object at 0x7f18950bf550>}\n",
      "Dowloading event 37: 2015-09-15T02:34:20.365714Z\n"
     ]
    },
    {
     "name": "stderr",
     "output_type": "stream",
     "text": [
      "ERROR:root:Error removing response: No response information found. Use `inventory` parameter to specify an inventory with response information. \\n will connect to client to download response\n"
     ]
    },
    {
     "name": "stdout",
     "output_type": "stream",
     "text": [
      "{'KNW': <obspy.core.stream.Stream object at 0x7f18955d3670>}\n"
     ]
    },
    {
     "name": "stderr",
     "output_type": "stream",
     "text": [
      "ERROR:root:Error removing response: No response information found. Use `inventory` parameter to specify an inventory with response information. \\n will connect to client to download response\n"
     ]
    },
    {
     "name": "stdout",
     "output_type": "stream",
     "text": [
      "{'KNW': <obspy.core.stream.Stream object at 0x7f1894f581c0>}\n",
      "Dowloading event 38: 2015-09-15T18:47:26.152857Z\n"
     ]
    },
    {
     "name": "stderr",
     "output_type": "stream",
     "text": [
      "ERROR:root:Error removing response: No response information found. Use `inventory` parameter to specify an inventory with response information. \\n will connect to client to download response\n"
     ]
    },
    {
     "name": "stdout",
     "output_type": "stream",
     "text": [
      "{'KNW': <obspy.core.stream.Stream object at 0x7f1894fbf880>}\n"
     ]
    },
    {
     "name": "stderr",
     "output_type": "stream",
     "text": [
      "ERROR:root:Error removing response: No response information found. Use `inventory` parameter to specify an inventory with response information. \\n will connect to client to download response\n"
     ]
    },
    {
     "name": "stdout",
     "output_type": "stream",
     "text": [
      "{'KNW': <obspy.core.stream.Stream object at 0x7f1895a700d0>}\n",
      "Dowloading event 39: 2015-09-16T16:10:48.804286Z\n"
     ]
    },
    {
     "name": "stderr",
     "output_type": "stream",
     "text": [
      "ERROR:root:Error removing response: No response information found. Use `inventory` parameter to specify an inventory with response information. \\n will connect to client to download response\n"
     ]
    },
    {
     "name": "stdout",
     "output_type": "stream",
     "text": [
      "{'KNW': <obspy.core.stream.Stream object at 0x7f1894f9ae50>}\n"
     ]
    },
    {
     "name": "stderr",
     "output_type": "stream",
     "text": [
      "ERROR:root:Error removing response: No response information found. Use `inventory` parameter to specify an inventory with response information. \\n will connect to client to download response\n"
     ]
    },
    {
     "name": "stdout",
     "output_type": "stream",
     "text": [
      "{'KNW': <obspy.core.stream.Stream object at 0x7f18f84a09d0>}\n",
      "Dowloading event 40: 2015-09-22T20:11:38.927143Z\n"
     ]
    },
    {
     "name": "stderr",
     "output_type": "stream",
     "text": [
      "ERROR:root:Error removing response: No response information found. Use `inventory` parameter to specify an inventory with response information. \\n will connect to client to download response\n"
     ]
    },
    {
     "name": "stdout",
     "output_type": "stream",
     "text": [
      "{'KNW': <obspy.core.stream.Stream object at 0x7f1895a426a0>}\n"
     ]
    },
    {
     "name": "stderr",
     "output_type": "stream",
     "text": [
      "ERROR:root:Error removing response: No response information found. Use `inventory` parameter to specify an inventory with response information. \\n will connect to client to download response\n"
     ]
    },
    {
     "name": "stdout",
     "output_type": "stream",
     "text": [
      "{'KNW': <obspy.core.stream.Stream object at 0x7f18f8375280>}\n",
      "Dowloading event 41: 2015-09-23T19:15:48.270000Z\n"
     ]
    },
    {
     "name": "stderr",
     "output_type": "stream",
     "text": [
      "ERROR:root:Error removing response: No response information found. Use `inventory` parameter to specify an inventory with response information. \\n will connect to client to download response\n"
     ]
    },
    {
     "name": "stdout",
     "output_type": "stream",
     "text": [
      "{'KNW': <obspy.core.stream.Stream object at 0x7f1895132f40>}\n"
     ]
    },
    {
     "name": "stderr",
     "output_type": "stream",
     "text": [
      "ERROR:root:Error removing response: No response information found. Use `inventory` parameter to specify an inventory with response information. \\n will connect to client to download response\n"
     ]
    },
    {
     "name": "stdout",
     "output_type": "stream",
     "text": [
      "{'KNW': <obspy.core.stream.Stream object at 0x7f189505c4c0>}\n",
      "Dowloading event 42: 2015-09-24T01:07:44.330000Z\n"
     ]
    },
    {
     "name": "stderr",
     "output_type": "stream",
     "text": [
      "ERROR:root:Error removing response: No response information found. Use `inventory` parameter to specify an inventory with response information. \\n will connect to client to download response\n"
     ]
    },
    {
     "name": "stdout",
     "output_type": "stream",
     "text": [
      "{'KNW': <obspy.core.stream.Stream object at 0x7f1894f3f880>}\n"
     ]
    },
    {
     "name": "stderr",
     "output_type": "stream",
     "text": [
      "ERROR:root:Error removing response: No response information found. Use `inventory` parameter to specify an inventory with response information. \\n will connect to client to download response\n"
     ]
    },
    {
     "name": "stdout",
     "output_type": "stream",
     "text": [
      "{'KNW': <obspy.core.stream.Stream object at 0x7f1894ebcbe0>}\n",
      "Dowloading event 43: 2015-09-26T01:03:10.785714Z\n"
     ]
    },
    {
     "name": "stderr",
     "output_type": "stream",
     "text": [
      "ERROR:root:Error removing response: No response information found. Use `inventory` parameter to specify an inventory with response information. \\n will connect to client to download response\n"
     ]
    },
    {
     "name": "stdout",
     "output_type": "stream",
     "text": [
      "{'KNW': <obspy.core.stream.Stream object at 0x7f1895739550>}\n"
     ]
    },
    {
     "name": "stderr",
     "output_type": "stream",
     "text": [
      "ERROR:root:Error removing response: No response information found. Use `inventory` parameter to specify an inventory with response information. \\n will connect to client to download response\n"
     ]
    },
    {
     "name": "stdout",
     "output_type": "stream",
     "text": [
      "{'KNW': <obspy.core.stream.Stream object at 0x7f18950c80d0>}\n",
      "Dowloading event 44: 2015-10-03T14:52:45.270000Z\n"
     ]
    },
    {
     "name": "stderr",
     "output_type": "stream",
     "text": [
      "ERROR:root:Error removing response: No response information found. Use `inventory` parameter to specify an inventory with response information. \\n will connect to client to download response\n"
     ]
    },
    {
     "name": "stdout",
     "output_type": "stream",
     "text": [
      "{'KNW': <obspy.core.stream.Stream object at 0x7f1895982df0>}\n"
     ]
    },
    {
     "name": "stderr",
     "output_type": "stream",
     "text": [
      "ERROR:root:Error removing response: No response information found. Use `inventory` parameter to specify an inventory with response information. \\n will connect to client to download response\n"
     ]
    },
    {
     "name": "stdout",
     "output_type": "stream",
     "text": [
      "{'KNW': <obspy.core.stream.Stream object at 0x7f1895a64c70>}\n",
      "Dowloading event 45: 2015-10-03T15:06:42.681429Z\n"
     ]
    },
    {
     "name": "stderr",
     "output_type": "stream",
     "text": [
      "ERROR:root:Error removing response: No response information found. Use `inventory` parameter to specify an inventory with response information. \\n will connect to client to download response\n"
     ]
    },
    {
     "name": "stdout",
     "output_type": "stream",
     "text": [
      "{'KNW': <obspy.core.stream.Stream object at 0x7f193d775d90>}\n"
     ]
    },
    {
     "name": "stderr",
     "output_type": "stream",
     "text": [
      "ERROR:root:Error removing response: No response information found. Use `inventory` parameter to specify an inventory with response information. \\n will connect to client to download response\n"
     ]
    },
    {
     "name": "stdout",
     "output_type": "stream",
     "text": [
      "{'KNW': <obspy.core.stream.Stream object at 0x7f1894fa9070>}\n",
      "Dowloading event 46: 2015-10-10T06:20:11.177143Z\n"
     ]
    },
    {
     "name": "stderr",
     "output_type": "stream",
     "text": [
      "ERROR:root:Error removing response: No response information found. Use `inventory` parameter to specify an inventory with response information. \\n will connect to client to download response\n"
     ]
    },
    {
     "name": "stdout",
     "output_type": "stream",
     "text": [
      "{'KNW': <obspy.core.stream.Stream object at 0x7f1895a7dac0>}\n"
     ]
    },
    {
     "name": "stderr",
     "output_type": "stream",
     "text": [
      "ERROR:root:Error removing response: No response information found. Use `inventory` parameter to specify an inventory with response information. \\n will connect to client to download response\n"
     ]
    },
    {
     "name": "stdout",
     "output_type": "stream",
     "text": [
      "{'KNW': <obspy.core.stream.Stream object at 0x7f1895c3ea60>}\n",
      "Dowloading event 47: 2015-10-14T13:55:31.678571Z\n"
     ]
    },
    {
     "name": "stderr",
     "output_type": "stream",
     "text": [
      "ERROR:root:Error removing response: No response information found. Use `inventory` parameter to specify an inventory with response information. \\n will connect to client to download response\n"
     ]
    },
    {
     "name": "stdout",
     "output_type": "stream",
     "text": [
      "{'KNW': <obspy.core.stream.Stream object at 0x7f18958d2550>}\n"
     ]
    },
    {
     "name": "stderr",
     "output_type": "stream",
     "text": [
      "ERROR:root:Error removing response: No response information found. Use `inventory` parameter to specify an inventory with response information. \\n will connect to client to download response\n"
     ]
    },
    {
     "name": "stdout",
     "output_type": "stream",
     "text": [
      "{'KNW': <obspy.core.stream.Stream object at 0x7f18950aebb0>}\n",
      "Dowloading event 48: 2015-10-14T17:05:25.040000Z\n"
     ]
    },
    {
     "name": "stderr",
     "output_type": "stream",
     "text": [
      "ERROR:root:Error removing response: No response information found. Use `inventory` parameter to specify an inventory with response information. \\n will connect to client to download response\n"
     ]
    },
    {
     "name": "stdout",
     "output_type": "stream",
     "text": [
      "{'KNW': <obspy.core.stream.Stream object at 0x7f1895c8d7c0>}\n"
     ]
    },
    {
     "name": "stderr",
     "output_type": "stream",
     "text": [
      "ERROR:root:Error removing response: No response information found. Use `inventory` parameter to specify an inventory with response information. \\n will connect to client to download response\n"
     ]
    },
    {
     "name": "stdout",
     "output_type": "stream",
     "text": [
      "{'KNW': <obspy.core.stream.Stream object at 0x7f18f8107c40>}\n",
      "Dowloading event 49: 2015-10-14T21:57:13.055714Z\n"
     ]
    },
    {
     "name": "stderr",
     "output_type": "stream",
     "text": [
      "ERROR:root:Error removing response: No response information found. Use `inventory` parameter to specify an inventory with response information. \\n will connect to client to download response\n"
     ]
    },
    {
     "name": "stdout",
     "output_type": "stream",
     "text": [
      "{'KNW': <obspy.core.stream.Stream object at 0x7f18f84a0d90>}\n"
     ]
    },
    {
     "name": "stderr",
     "output_type": "stream",
     "text": [
      "ERROR:root:Error removing response: No response information found. Use `inventory` parameter to specify an inventory with response information. \\n will connect to client to download response\n"
     ]
    },
    {
     "name": "stdout",
     "output_type": "stream",
     "text": [
      "{'KNW': <obspy.core.stream.Stream object at 0x7f1895999970>}\n",
      "Dowloading event 50: 2015-10-16T17:10:21.074286Z\n"
     ]
    },
    {
     "name": "stderr",
     "output_type": "stream",
     "text": [
      "ERROR:root:Error removing response: No response information found. Use `inventory` parameter to specify an inventory with response information. \\n will connect to client to download response\n"
     ]
    },
    {
     "name": "stdout",
     "output_type": "stream",
     "text": [
      "{'KNW': <obspy.core.stream.Stream object at 0x7f18953dd4c0>}\n"
     ]
    },
    {
     "name": "stderr",
     "output_type": "stream",
     "text": [
      "ERROR:root:Error removing response: No response information found. Use `inventory` parameter to specify an inventory with response information. \\n will connect to client to download response\n"
     ]
    },
    {
     "name": "stdout",
     "output_type": "stream",
     "text": [
      "{'KNW': <obspy.core.stream.Stream object at 0x7f1894fa93d0>}\n",
      "Dowloading event 51: 2015-10-17T06:00:27.955714Z\n"
     ]
    },
    {
     "name": "stderr",
     "output_type": "stream",
     "text": [
      "ERROR:root:Error removing response: No response information found. Use `inventory` parameter to specify an inventory with response information. \\n will connect to client to download response\n"
     ]
    },
    {
     "name": "stdout",
     "output_type": "stream",
     "text": [
      "{'KNW': <obspy.core.stream.Stream object at 0x7f18f84639a0>}\n"
     ]
    },
    {
     "name": "stderr",
     "output_type": "stream",
     "text": [
      "ERROR:root:Error removing response: No response information found. Use `inventory` parameter to specify an inventory with response information. \\n will connect to client to download response\n"
     ]
    },
    {
     "name": "stdout",
     "output_type": "stream",
     "text": [
      "{'KNW': <obspy.core.stream.Stream object at 0x7f18950b2040>}\n",
      "Dowloading event 52: 2015-10-18T12:23:58.485714Z\n"
     ]
    },
    {
     "name": "stderr",
     "output_type": "stream",
     "text": [
      "ERROR:root:Error removing response: No response information found. Use `inventory` parameter to specify an inventory with response information. \\n will connect to client to download response\n"
     ]
    },
    {
     "name": "stdout",
     "output_type": "stream",
     "text": [
      "{'KNW': <obspy.core.stream.Stream object at 0x7f1895663910>}\n"
     ]
    },
    {
     "name": "stderr",
     "output_type": "stream",
     "text": [
      "ERROR:root:Error removing response: No response information found. Use `inventory` parameter to specify an inventory with response information. \\n will connect to client to download response\n"
     ]
    },
    {
     "name": "stdout",
     "output_type": "stream",
     "text": [
      "{'KNW': <obspy.core.stream.Stream object at 0x7f1895425e80>}\n",
      "Dowloading event 53: 2015-10-19T11:00:17.548571Z\n"
     ]
    },
    {
     "name": "stderr",
     "output_type": "stream",
     "text": [
      "ERROR:root:Error removing response: No response information found. Use `inventory` parameter to specify an inventory with response information. \\n will connect to client to download response\n"
     ]
    },
    {
     "name": "stdout",
     "output_type": "stream",
     "text": [
      "{'KNW': <obspy.core.stream.Stream object at 0x7f18f8489100>}\n"
     ]
    },
    {
     "name": "stderr",
     "output_type": "stream",
     "text": [
      "ERROR:root:Error removing response: No response information found. Use `inventory` parameter to specify an inventory with response information. \\n will connect to client to download response\n"
     ]
    },
    {
     "name": "stdout",
     "output_type": "stream",
     "text": [
      "{'KNW': <obspy.core.stream.Stream object at 0x7f18f83758e0>}\n",
      "Dowloading event 54: 2015-10-20T06:24:45.698571Z\n"
     ]
    },
    {
     "name": "stderr",
     "output_type": "stream",
     "text": [
      "ERROR:root:Error removing response: No response information found. Use `inventory` parameter to specify an inventory with response information. \\n will connect to client to download response\n"
     ]
    },
    {
     "name": "stdout",
     "output_type": "stream",
     "text": [
      "{'KNW': <obspy.core.stream.Stream object at 0x7f18959cea90>}\n"
     ]
    },
    {
     "name": "stderr",
     "output_type": "stream",
     "text": [
      "ERROR:root:Error removing response: No response information found. Use `inventory` parameter to specify an inventory with response information. \\n will connect to client to download response\n"
     ]
    },
    {
     "name": "stdout",
     "output_type": "stream",
     "text": [
      "{'KNW': <obspy.core.stream.Stream object at 0x7f18f84a02b0>}\n",
      "Dowloading event 55: 2015-10-21T20:01:43.254286Z\n"
     ]
    },
    {
     "name": "stderr",
     "output_type": "stream",
     "text": [
      "ERROR:root:Error removing response: No response information found. Use `inventory` parameter to specify an inventory with response information. \\n will connect to client to download response\n"
     ]
    },
    {
     "name": "stdout",
     "output_type": "stream",
     "text": [
      "{'KNW': <obspy.core.stream.Stream object at 0x7f18950ae3a0>}\n"
     ]
    },
    {
     "name": "stderr",
     "output_type": "stream",
     "text": [
      "ERROR:root:Error removing response: No response information found. Use `inventory` parameter to specify an inventory with response information. \\n will connect to client to download response\n"
     ]
    },
    {
     "name": "stdout",
     "output_type": "stream",
     "text": [
      "{'KNW': <obspy.core.stream.Stream object at 0x7f1895c3ee50>}\n",
      "Dowloading event 56: 2015-10-21T20:03:05.018571Z\n"
     ]
    },
    {
     "name": "stderr",
     "output_type": "stream",
     "text": [
      "ERROR:root:Error removing response: No response information found. Use `inventory` parameter to specify an inventory with response information. \\n will connect to client to download response\n"
     ]
    },
    {
     "name": "stdout",
     "output_type": "stream",
     "text": [
      "{'KNW': <obspy.core.stream.Stream object at 0x7f1894f3dac0>}\n"
     ]
    },
    {
     "name": "stderr",
     "output_type": "stream",
     "text": [
      "ERROR:root:Error removing response: No response information found. Use `inventory` parameter to specify an inventory with response information. \\n will connect to client to download response\n"
     ]
    },
    {
     "name": "stdout",
     "output_type": "stream",
     "text": [
      "{'KNW': <obspy.core.stream.Stream object at 0x7f1894f58fa0>}\n",
      "Dowloading event 57: 2015-10-27T11:06:51.647143Z\n"
     ]
    },
    {
     "name": "stderr",
     "output_type": "stream",
     "text": [
      "ERROR:root:Error removing response: No response information found. Use `inventory` parameter to specify an inventory with response information. \\n will connect to client to download response\n"
     ]
    },
    {
     "name": "stdout",
     "output_type": "stream",
     "text": [
      "{'KNW': <obspy.core.stream.Stream object at 0x7f18955d3520>}\n"
     ]
    },
    {
     "name": "stderr",
     "output_type": "stream",
     "text": [
      "ERROR:root:Error removing response: No response information found. Use `inventory` parameter to specify an inventory with response information. \\n will connect to client to download response\n"
     ]
    },
    {
     "name": "stdout",
     "output_type": "stream",
     "text": [
      "{'KNW': <obspy.core.stream.Stream object at 0x7f1895a70160>}\n",
      "Dowloading event 58: 2015-11-27T01:21:29.867143Z\n"
     ]
    },
    {
     "name": "stderr",
     "output_type": "stream",
     "text": [
      "ERROR:root:Error removing response: No response information found. Use `inventory` parameter to specify an inventory with response information. \\n will connect to client to download response\n"
     ]
    },
    {
     "name": "stdout",
     "output_type": "stream",
     "text": [
      "{'KNW': <obspy.core.stream.Stream object at 0x7f1894ed22e0>}\n"
     ]
    },
    {
     "name": "stderr",
     "output_type": "stream",
     "text": [
      "ERROR:root:Error removing response: No response information found. Use `inventory` parameter to specify an inventory with response information. \\n will connect to client to download response\n"
     ]
    },
    {
     "name": "stdout",
     "output_type": "stream",
     "text": [
      "{'KNW': <obspy.core.stream.Stream object at 0x7f1895b76910>}\n",
      "Dowloading event 59: 2015-12-07T14:06:10.925714Z\n"
     ]
    },
    {
     "name": "stderr",
     "output_type": "stream",
     "text": [
      "ERROR:root:Error removing response: No response information found. Use `inventory` parameter to specify an inventory with response information. \\n will connect to client to download response\n"
     ]
    },
    {
     "name": "stdout",
     "output_type": "stream",
     "text": [
      "{'KNW': <obspy.core.stream.Stream object at 0x7f18958d2400>}\n"
     ]
    },
    {
     "name": "stderr",
     "output_type": "stream",
     "text": [
      "ERROR:root:Error removing response: No response information found. Use `inventory` parameter to specify an inventory with response information. \\n will connect to client to download response\n"
     ]
    },
    {
     "name": "stdout",
     "output_type": "stream",
     "text": [
      "{'KNW': <obspy.core.stream.Stream object at 0x7f1895663ca0>}\n",
      "Dowloading event 60: 2015-12-09T14:30:58.468571Z\n"
     ]
    },
    {
     "name": "stderr",
     "output_type": "stream",
     "text": [
      "ERROR:root:Error removing response: No response information found. Use `inventory` parameter to specify an inventory with response information. \\n will connect to client to download response\n"
     ]
    },
    {
     "name": "stdout",
     "output_type": "stream",
     "text": [
      "{'KNW': <obspy.core.stream.Stream object at 0x7f18f8375160>}\n"
     ]
    },
    {
     "name": "stderr",
     "output_type": "stream",
     "text": [
      "ERROR:root:Error removing response: No response information found. Use `inventory` parameter to specify an inventory with response information. \\n will connect to client to download response\n"
     ]
    },
    {
     "name": "stdout",
     "output_type": "stream",
     "text": [
      "{'KNW': <obspy.core.stream.Stream object at 0x7f18f8198190>}\n",
      "Dowloading event 61: 2015-12-09T14:32:40.372857Z\n"
     ]
    },
    {
     "name": "stderr",
     "output_type": "stream",
     "text": [
      "ERROR:root:Error removing response: No response information found. Use `inventory` parameter to specify an inventory with response information. \\n will connect to client to download response\n"
     ]
    },
    {
     "name": "stdout",
     "output_type": "stream",
     "text": [
      "{'KNW': <obspy.core.stream.Stream object at 0x7f18955b4160>}\n"
     ]
    },
    {
     "name": "stderr",
     "output_type": "stream",
     "text": [
      "ERROR:root:Error removing response: No response information found. Use `inventory` parameter to specify an inventory with response information. \\n will connect to client to download response\n"
     ]
    },
    {
     "name": "stdout",
     "output_type": "stream",
     "text": [
      "{'KNW': <obspy.core.stream.Stream object at 0x7f189565abb0>}\n",
      "Dowloading event 62: 2015-12-10T01:36:33.658571Z\n"
     ]
    },
    {
     "name": "stderr",
     "output_type": "stream",
     "text": [
      "ERROR:root:Error removing response: No response information found. Use `inventory` parameter to specify an inventory with response information. \\n will connect to client to download response\n"
     ]
    },
    {
     "name": "stdout",
     "output_type": "stream",
     "text": [
      "{'KNW': <obspy.core.stream.Stream object at 0x7f18f849b5b0>}\n"
     ]
    },
    {
     "name": "stderr",
     "output_type": "stream",
     "text": [
      "ERROR:root:Error removing response: No response information found. Use `inventory` parameter to specify an inventory with response information. \\n will connect to client to download response\n"
     ]
    },
    {
     "name": "stdout",
     "output_type": "stream",
     "text": [
      "{'KNW': <obspy.core.stream.Stream object at 0x7f18959ce970>}\n",
      "Dowloading event 63: 2015-12-19T01:45:48.174286Z\n"
     ]
    },
    {
     "name": "stderr",
     "output_type": "stream",
     "text": [
      "ERROR:root:Error removing response: No response information found. Use `inventory` parameter to specify an inventory with response information. \\n will connect to client to download response\n"
     ]
    },
    {
     "name": "stdout",
     "output_type": "stream",
     "text": [
      "{'KNW': <obspy.core.stream.Stream object at 0x7f18950ae100>}\n"
     ]
    },
    {
     "name": "stderr",
     "output_type": "stream",
     "text": [
      "ERROR:root:Error removing response: No response information found. Use `inventory` parameter to specify an inventory with response information. \\n will connect to client to download response\n"
     ]
    },
    {
     "name": "stdout",
     "output_type": "stream",
     "text": [
      "{'KNW': <obspy.core.stream.Stream object at 0x7f1895a635e0>}\n",
      "Dowloading event 64: 2015-12-23T13:38:08.021429Z\n"
     ]
    },
    {
     "name": "stderr",
     "output_type": "stream",
     "text": [
      "ERROR:root:Error removing response: No response information found. Use `inventory` parameter to specify an inventory with response information. \\n will connect to client to download response\n"
     ]
    },
    {
     "name": "stdout",
     "output_type": "stream",
     "text": [
      "{'KNW': <obspy.core.stream.Stream object at 0x7f1894ebc970>}\n"
     ]
    },
    {
     "name": "stderr",
     "output_type": "stream",
     "text": [
      "ERROR:root:Error removing response: No response information found. Use `inventory` parameter to specify an inventory with response information. \\n will connect to client to download response\n"
     ]
    },
    {
     "name": "stdout",
     "output_type": "stream",
     "text": [
      "{'KNW': <obspy.core.stream.Stream object at 0x7f189543a160>}\n",
      "Dowloading event 65: 2015-12-30T23:28:20.250000Z\n"
     ]
    },
    {
     "name": "stderr",
     "output_type": "stream",
     "text": [
      "ERROR:root:Error removing response: No response information found. Use `inventory` parameter to specify an inventory with response information. \\n will connect to client to download response\n"
     ]
    },
    {
     "name": "stdout",
     "output_type": "stream",
     "text": [
      "{'KNW': <obspy.core.stream.Stream object at 0x7f18945176a0>}\n"
     ]
    },
    {
     "name": "stderr",
     "output_type": "stream",
     "text": [
      "ERROR:root:Error removing response: No response information found. Use `inventory` parameter to specify an inventory with response information. \\n will connect to client to download response\n"
     ]
    },
    {
     "name": "stdout",
     "output_type": "stream",
     "text": [
      "{'KNW': <obspy.core.stream.Stream object at 0x7f18f7ff7b50>}\n",
      "Dowloading event 66: 2016-01-06T14:42:35.770000Z\n"
     ]
    },
    {
     "name": "stderr",
     "output_type": "stream",
     "text": [
      "ERROR:root:Error removing response: No response information found. Use `inventory` parameter to specify an inventory with response information. \\n will connect to client to download response\n"
     ]
    },
    {
     "name": "stdout",
     "output_type": "stream",
     "text": [
      "{'KNW': <obspy.core.stream.Stream object at 0x7f18950d5880>}\n"
     ]
    },
    {
     "name": "stderr",
     "output_type": "stream",
     "text": [
      "ERROR:root:Error removing response: No response information found. Use `inventory` parameter to specify an inventory with response information. \\n will connect to client to download response\n"
     ]
    },
    {
     "name": "stdout",
     "output_type": "stream",
     "text": [
      "{'KNW': <obspy.core.stream.Stream object at 0x7f189451aac0>}\n",
      "Dowloading event 67: 2016-01-07T00:24:24.975714Z\n"
     ]
    },
    {
     "name": "stderr",
     "output_type": "stream",
     "text": [
      "ERROR:root:Error removing response: No response information found. Use `inventory` parameter to specify an inventory with response information. \\n will connect to client to download response\n"
     ]
    },
    {
     "name": "stdout",
     "output_type": "stream",
     "text": [
      "{'KNW': <obspy.core.stream.Stream object at 0x7f18959c60a0>}\n"
     ]
    },
    {
     "name": "stderr",
     "output_type": "stream",
     "text": [
      "ERROR:root:Error removing response: No response information found. Use `inventory` parameter to specify an inventory with response information. \\n will connect to client to download response\n"
     ]
    },
    {
     "name": "stdout",
     "output_type": "stream",
     "text": [
      "{'KNW': <obspy.core.stream.Stream object at 0x7f18950d6b20>}\n",
      "Dowloading event 68: 2016-01-07T05:24:07.341429Z\n"
     ]
    },
    {
     "name": "stderr",
     "output_type": "stream",
     "text": [
      "ERROR:root:Error removing response: No response information found. Use `inventory` parameter to specify an inventory with response information. \\n will connect to client to download response\n"
     ]
    },
    {
     "name": "stdout",
     "output_type": "stream",
     "text": [
      "{'KNW': <obspy.core.stream.Stream object at 0x7f1894f34640>}\n"
     ]
    },
    {
     "name": "stderr",
     "output_type": "stream",
     "text": [
      "ERROR:root:Error removing response: No response information found. Use `inventory` parameter to specify an inventory with response information. \\n will connect to client to download response\n"
     ]
    },
    {
     "name": "stdout",
     "output_type": "stream",
     "text": [
      "{'KNW': <obspy.core.stream.Stream object at 0x7f1894fa93d0>}\n",
      "Dowloading event 69: 2016-01-09T11:43:11.370000Z\n"
     ]
    },
    {
     "name": "stderr",
     "output_type": "stream",
     "text": [
      "ERROR:root:Error removing response: No response information found. Use `inventory` parameter to specify an inventory with response information. \\n will connect to client to download response\n"
     ]
    },
    {
     "name": "stdout",
     "output_type": "stream",
     "text": [
      "{'KNW': <obspy.core.stream.Stream object at 0x7f1895544640>}\n"
     ]
    },
    {
     "name": "stderr",
     "output_type": "stream",
     "text": [
      "ERROR:root:Error removing response: No response information found. Use `inventory` parameter to specify an inventory with response information. \\n will connect to client to download response\n"
     ]
    },
    {
     "name": "stdout",
     "output_type": "stream",
     "text": [
      "{'KNW': <obspy.core.stream.Stream object at 0x7f1895663730>}\n",
      "Dowloading event 70: 2016-01-09T12:08:03.044286Z\n"
     ]
    },
    {
     "name": "stderr",
     "output_type": "stream",
     "text": [
      "ERROR:root:Error removing response: No response information found. Use `inventory` parameter to specify an inventory with response information. \\n will connect to client to download response\n"
     ]
    },
    {
     "name": "stdout",
     "output_type": "stream",
     "text": [
      "{'KNW': <obspy.core.stream.Stream object at 0x7f1894f9ae50>}\n"
     ]
    },
    {
     "name": "stderr",
     "output_type": "stream",
     "text": [
      "ERROR:root:Error removing response: No response information found. Use `inventory` parameter to specify an inventory with response information. \\n will connect to client to download response\n"
     ]
    },
    {
     "name": "stdout",
     "output_type": "stream",
     "text": [
      "{'KNW': <obspy.core.stream.Stream object at 0x7f18f83750a0>}\n",
      "Dowloading event 71: 2016-01-11T19:47:59.595714Z\n"
     ]
    },
    {
     "ename": "KeyboardInterrupt",
     "evalue": "",
     "output_type": "error",
     "traceback": [
      "\u001b[0;31m---------------------------------------------------------------------------\u001b[0m",
      "\u001b[0;31mKeyboardInterrupt\u001b[0m                         Traceback (most recent call last)",
      "Cell \u001b[0;32mIn[34], line 31\u001b[0m\n\u001b[1;32m     29\u001b[0m \u001b[38;5;28;01mwhile\u001b[39;00m i \u001b[38;5;241m<\u001b[39m station_metadata[\u001b[38;5;124m\"\u001b[39m\u001b[38;5;124mnumber_of_tries\u001b[39m\u001b[38;5;124m\"\u001b[39m]:\n\u001b[1;32m     30\u001b[0m     \u001b[38;5;28;01mtry\u001b[39;00m:\n\u001b[0;32m---> 31\u001b[0m         stream_dict \u001b[38;5;241m=\u001b[39m \u001b[43mget_stream_multiple_stations\u001b[49m\u001b[43m(\u001b[49m\n\u001b[1;32m     32\u001b[0m \u001b[43m            \u001b[49m\u001b[43mstation_list\u001b[49m\u001b[38;5;241;43m=\u001b[39;49m\u001b[43m[\u001b[49m\u001b[43mstn\u001b[49m\u001b[43m]\u001b[49m\u001b[43m,\u001b[49m\n\u001b[1;32m     33\u001b[0m \u001b[43m            \u001b[49m\u001b[43mt1\u001b[49m\u001b[38;5;241;43m=\u001b[39;49m\u001b[43mUTCDateTime\u001b[49m\u001b[43m(\u001b[49m\u001b[43mt1\u001b[49m\u001b[43m)\u001b[49m\u001b[43m,\u001b[49m\n\u001b[1;32m     34\u001b[0m \u001b[43m            \u001b[49m\u001b[43mt2\u001b[49m\u001b[38;5;241;43m=\u001b[39;49m\u001b[43mUTCDateTime\u001b[49m\u001b[43m(\u001b[49m\u001b[43mt2\u001b[49m\u001b[43m)\u001b[49m\u001b[43m,\u001b[49m\n\u001b[1;32m     35\u001b[0m \u001b[43m        \u001b[49m\u001b[43m)\u001b[49m\n\u001b[1;32m     36\u001b[0m         \u001b[38;5;28mprint\u001b[39m(stream_dict)\n\u001b[1;32m     37\u001b[0m         tmp_stream\u001b[38;5;241m=\u001b[39mstream_dict[stn]\n",
      "File \u001b[0;32m~/QuakeHack/GroundMotion_QH/ground_motion_qh/get_waveforms.py:66\u001b[0m, in \u001b[0;36mget_stream_multiple_stations\u001b[0;34m(station_list, t1, t2, network, client)\u001b[0m\n\u001b[1;32m     64\u001b[0m station_streams \u001b[38;5;241m=\u001b[39m {}\n\u001b[1;32m     65\u001b[0m \u001b[38;5;28;01mfor\u001b[39;00m stn \u001b[38;5;129;01min\u001b[39;00m station_list:\n\u001b[0;32m---> 66\u001b[0m   station_streams[stn] \u001b[38;5;241m=\u001b[39m \u001b[43mclient\u001b[49m\u001b[38;5;241;43m.\u001b[39;49m\u001b[43mget_waveforms\u001b[49m\u001b[43m(\u001b[49m\u001b[43mnetwork\u001b[49m\u001b[43m,\u001b[49m\u001b[43m \u001b[49m\u001b[38;5;28;43mstr\u001b[39;49m\u001b[43m(\u001b[49m\u001b[43mstn\u001b[49m\u001b[43m)\u001b[49m\u001b[43m,\u001b[49m\u001b[43m \u001b[49m\u001b[38;5;124;43m\"\u001b[39;49m\u001b[38;5;124;43m*\u001b[39;49m\u001b[38;5;124;43m\"\u001b[39;49m\u001b[43m,\u001b[49m\u001b[43m \u001b[49m\u001b[38;5;124;43m\"\u001b[39;49m\u001b[38;5;124;43mHH*\u001b[39;49m\u001b[38;5;124;43m\"\u001b[39;49m\u001b[43m,\u001b[49m\u001b[43m \u001b[49m\u001b[43mt1\u001b[49m\u001b[43m,\u001b[49m\u001b[43m \u001b[49m\u001b[43mt2\u001b[49m\u001b[43m)\u001b[49m\n\u001b[1;32m     67\u001b[0m \u001b[38;5;28;01mreturn\u001b[39;00m station_streams\n",
      "File \u001b[0;32m~/.local/lib/python3.9/site-packages/obspy/clients/fdsn/client.py:872\u001b[0m, in \u001b[0;36mClient.get_waveforms\u001b[0;34m(self, network, station, location, channel, starttime, endtime, quality, minimumlength, longestonly, filename, attach_response, **kwargs)\u001b[0m\n\u001b[1;32m    867\u001b[0m url \u001b[38;5;241m=\u001b[39m \u001b[38;5;28mself\u001b[39m\u001b[38;5;241m.\u001b[39m_create_url_from_parameters(\n\u001b[1;32m    868\u001b[0m     \u001b[38;5;124m\"\u001b[39m\u001b[38;5;124mdataselect\u001b[39m\u001b[38;5;124m\"\u001b[39m, DEFAULT_PARAMETERS[\u001b[38;5;124m'\u001b[39m\u001b[38;5;124mdataselect\u001b[39m\u001b[38;5;124m'\u001b[39m], kwargs)\n\u001b[1;32m    870\u001b[0m \u001b[38;5;66;03m# Gzip not worth it for MiniSEED and most likely disabled for this\u001b[39;00m\n\u001b[1;32m    871\u001b[0m \u001b[38;5;66;03m# route in any case.\u001b[39;00m\n\u001b[0;32m--> 872\u001b[0m data_stream \u001b[38;5;241m=\u001b[39m \u001b[38;5;28;43mself\u001b[39;49m\u001b[38;5;241;43m.\u001b[39;49m\u001b[43m_download\u001b[49m\u001b[43m(\u001b[49m\u001b[43murl\u001b[49m\u001b[43m,\u001b[49m\u001b[43m \u001b[49m\u001b[43muse_gzip\u001b[49m\u001b[38;5;241;43m=\u001b[39;49m\u001b[38;5;28;43;01mFalse\u001b[39;49;00m\u001b[43m)\u001b[49m\n\u001b[1;32m    873\u001b[0m data_stream\u001b[38;5;241m.\u001b[39mseek(\u001b[38;5;241m0\u001b[39m, \u001b[38;5;241m0\u001b[39m)\n\u001b[1;32m    874\u001b[0m \u001b[38;5;28;01mif\u001b[39;00m filename:\n",
      "File \u001b[0;32m~/.local/lib/python3.9/site-packages/obspy/clients/fdsn/client.py:1482\u001b[0m, in \u001b[0;36mClient._download\u001b[0;34m(self, url, return_string, data, use_gzip, content_type)\u001b[0m\n\u001b[1;32m   1480\u001b[0m \u001b[38;5;28;01mif\u001b[39;00m content_type:\n\u001b[1;32m   1481\u001b[0m     headers[\u001b[38;5;124m'\u001b[39m\u001b[38;5;124mContent-Type\u001b[39m\u001b[38;5;124m'\u001b[39m] \u001b[38;5;241m=\u001b[39m content_type\n\u001b[0;32m-> 1482\u001b[0m code, data \u001b[38;5;241m=\u001b[39m \u001b[43mdownload_url\u001b[49m\u001b[43m(\u001b[49m\n\u001b[1;32m   1483\u001b[0m \u001b[43m    \u001b[49m\u001b[43murl\u001b[49m\u001b[43m,\u001b[49m\u001b[43m \u001b[49m\u001b[43mopener\u001b[49m\u001b[38;5;241;43m=\u001b[39;49m\u001b[38;5;28;43mself\u001b[39;49m\u001b[38;5;241;43m.\u001b[39;49m\u001b[43m_url_opener\u001b[49m\u001b[43m,\u001b[49m\u001b[43m \u001b[49m\u001b[43mheaders\u001b[49m\u001b[38;5;241;43m=\u001b[39;49m\u001b[43mheaders\u001b[49m\u001b[43m,\u001b[49m\n\u001b[1;32m   1484\u001b[0m \u001b[43m    \u001b[49m\u001b[43mdebug\u001b[49m\u001b[38;5;241;43m=\u001b[39;49m\u001b[38;5;28;43mself\u001b[39;49m\u001b[38;5;241;43m.\u001b[39;49m\u001b[43mdebug\u001b[49m\u001b[43m,\u001b[49m\u001b[43m \u001b[49m\u001b[43mreturn_string\u001b[49m\u001b[38;5;241;43m=\u001b[39;49m\u001b[43mreturn_string\u001b[49m\u001b[43m,\u001b[49m\u001b[43m \u001b[49m\u001b[43mdata\u001b[49m\u001b[38;5;241;43m=\u001b[39;49m\u001b[43mdata\u001b[49m\u001b[43m,\u001b[49m\n\u001b[1;32m   1485\u001b[0m \u001b[43m    \u001b[49m\u001b[43mtimeout\u001b[49m\u001b[38;5;241;43m=\u001b[39;49m\u001b[38;5;28;43mself\u001b[39;49m\u001b[38;5;241;43m.\u001b[39;49m\u001b[43mtimeout\u001b[49m\u001b[43m,\u001b[49m\u001b[43m \u001b[49m\u001b[43muse_gzip\u001b[49m\u001b[38;5;241;43m=\u001b[39;49m\u001b[43muse_gzip\u001b[49m\u001b[43m)\u001b[49m\n\u001b[1;32m   1486\u001b[0m raise_on_error(code, data)\n\u001b[1;32m   1487\u001b[0m \u001b[38;5;28;01mreturn\u001b[39;00m data\n",
      "File \u001b[0;32m~/.local/lib/python3.9/site-packages/obspy/clients/fdsn/client.py:1927\u001b[0m, in \u001b[0;36mdownload_url\u001b[0;34m(url, opener, timeout, headers, debug, return_string, data, use_gzip)\u001b[0m\n\u001b[1;32m   1924\u001b[0m     f \u001b[38;5;241m=\u001b[39m url_obj\n\u001b[1;32m   1926\u001b[0m \u001b[38;5;28;01mif\u001b[39;00m return_string \u001b[38;5;129;01mis\u001b[39;00m \u001b[38;5;28;01mFalse\u001b[39;00m:\n\u001b[0;32m-> 1927\u001b[0m     data \u001b[38;5;241m=\u001b[39m io\u001b[38;5;241m.\u001b[39mBytesIO(\u001b[43mf\u001b[49m\u001b[38;5;241;43m.\u001b[39;49m\u001b[43mread\u001b[49m\u001b[43m(\u001b[49m\u001b[43m)\u001b[49m)\n\u001b[1;32m   1928\u001b[0m \u001b[38;5;28;01melse\u001b[39;00m:\n\u001b[1;32m   1929\u001b[0m     data \u001b[38;5;241m=\u001b[39m f\u001b[38;5;241m.\u001b[39mread()\n",
      "File \u001b[0;32m~/.local/miniconda3/envs/eq/lib/python3.9/http/client.py:470\u001b[0m, in \u001b[0;36mHTTPResponse.read\u001b[0;34m(self, amt)\u001b[0m\n\u001b[1;32m    465\u001b[0m \u001b[38;5;28;01melse\u001b[39;00m:\n\u001b[1;32m    466\u001b[0m     \u001b[38;5;66;03m# Amount is not given (unbounded read) so we must check self.length\u001b[39;00m\n\u001b[1;32m    467\u001b[0m     \u001b[38;5;66;03m# and self.chunked\u001b[39;00m\n\u001b[1;32m    469\u001b[0m     \u001b[38;5;28;01mif\u001b[39;00m \u001b[38;5;28mself\u001b[39m\u001b[38;5;241m.\u001b[39mchunked:\n\u001b[0;32m--> 470\u001b[0m         \u001b[38;5;28;01mreturn\u001b[39;00m \u001b[38;5;28;43mself\u001b[39;49m\u001b[38;5;241;43m.\u001b[39;49m\u001b[43m_readall_chunked\u001b[49m\u001b[43m(\u001b[49m\u001b[43m)\u001b[49m\n\u001b[1;32m    472\u001b[0m     \u001b[38;5;28;01mif\u001b[39;00m \u001b[38;5;28mself\u001b[39m\u001b[38;5;241m.\u001b[39mlength \u001b[38;5;129;01mis\u001b[39;00m \u001b[38;5;28;01mNone\u001b[39;00m:\n\u001b[1;32m    473\u001b[0m         s \u001b[38;5;241m=\u001b[39m \u001b[38;5;28mself\u001b[39m\u001b[38;5;241m.\u001b[39mfp\u001b[38;5;241m.\u001b[39mread()\n",
      "File \u001b[0;32m~/.local/miniconda3/envs/eq/lib/python3.9/http/client.py:580\u001b[0m, in \u001b[0;36mHTTPResponse._readall_chunked\u001b[0;34m(self)\u001b[0m\n\u001b[1;32m    578\u001b[0m     \u001b[38;5;28;01mif\u001b[39;00m chunk_left \u001b[38;5;129;01mis\u001b[39;00m \u001b[38;5;28;01mNone\u001b[39;00m:\n\u001b[1;32m    579\u001b[0m         \u001b[38;5;28;01mbreak\u001b[39;00m\n\u001b[0;32m--> 580\u001b[0m     value\u001b[38;5;241m.\u001b[39mappend(\u001b[38;5;28;43mself\u001b[39;49m\u001b[38;5;241;43m.\u001b[39;49m\u001b[43m_safe_read\u001b[49m\u001b[43m(\u001b[49m\u001b[43mchunk_left\u001b[49m\u001b[43m)\u001b[49m)\n\u001b[1;32m    581\u001b[0m     \u001b[38;5;28mself\u001b[39m\u001b[38;5;241m.\u001b[39mchunk_left \u001b[38;5;241m=\u001b[39m \u001b[38;5;241m0\u001b[39m\n\u001b[1;32m    582\u001b[0m \u001b[38;5;28;01mreturn\u001b[39;00m \u001b[38;5;124mb\u001b[39m\u001b[38;5;124m'\u001b[39m\u001b[38;5;124m'\u001b[39m\u001b[38;5;241m.\u001b[39mjoin(value)\n",
      "File \u001b[0;32m~/.local/miniconda3/envs/eq/lib/python3.9/http/client.py:626\u001b[0m, in \u001b[0;36mHTTPResponse._safe_read\u001b[0;34m(self, amt)\u001b[0m\n\u001b[1;32m    624\u001b[0m s \u001b[38;5;241m=\u001b[39m []\n\u001b[1;32m    625\u001b[0m \u001b[38;5;28;01mwhile\u001b[39;00m amt \u001b[38;5;241m>\u001b[39m \u001b[38;5;241m0\u001b[39m:\n\u001b[0;32m--> 626\u001b[0m     chunk \u001b[38;5;241m=\u001b[39m \u001b[38;5;28;43mself\u001b[39;49m\u001b[38;5;241;43m.\u001b[39;49m\u001b[43mfp\u001b[49m\u001b[38;5;241;43m.\u001b[39;49m\u001b[43mread\u001b[49m\u001b[43m(\u001b[49m\u001b[38;5;28;43mmin\u001b[39;49m\u001b[43m(\u001b[49m\u001b[43mamt\u001b[49m\u001b[43m,\u001b[49m\u001b[43m \u001b[49m\u001b[43mMAXAMOUNT\u001b[49m\u001b[43m)\u001b[49m\u001b[43m)\u001b[49m\n\u001b[1;32m    627\u001b[0m     \u001b[38;5;28;01mif\u001b[39;00m \u001b[38;5;129;01mnot\u001b[39;00m chunk:\n\u001b[1;32m    628\u001b[0m         \u001b[38;5;28;01mraise\u001b[39;00m IncompleteRead(\u001b[38;5;124mb\u001b[39m\u001b[38;5;124m'\u001b[39m\u001b[38;5;124m'\u001b[39m\u001b[38;5;241m.\u001b[39mjoin(s), amt)\n",
      "File \u001b[0;32m~/.local/miniconda3/envs/eq/lib/python3.9/socket.py:716\u001b[0m, in \u001b[0;36mSocketIO.readinto\u001b[0;34m(self, b)\u001b[0m\n\u001b[1;32m    714\u001b[0m \u001b[38;5;28;01mwhile\u001b[39;00m \u001b[38;5;28;01mTrue\u001b[39;00m:\n\u001b[1;32m    715\u001b[0m     \u001b[38;5;28;01mtry\u001b[39;00m:\n\u001b[0;32m--> 716\u001b[0m         \u001b[38;5;28;01mreturn\u001b[39;00m \u001b[38;5;28;43mself\u001b[39;49m\u001b[38;5;241;43m.\u001b[39;49m\u001b[43m_sock\u001b[49m\u001b[38;5;241;43m.\u001b[39;49m\u001b[43mrecv_into\u001b[49m\u001b[43m(\u001b[49m\u001b[43mb\u001b[49m\u001b[43m)\u001b[49m\n\u001b[1;32m    717\u001b[0m     \u001b[38;5;28;01mexcept\u001b[39;00m timeout:\n\u001b[1;32m    718\u001b[0m         \u001b[38;5;28mself\u001b[39m\u001b[38;5;241m.\u001b[39m_timeout_occurred \u001b[38;5;241m=\u001b[39m \u001b[38;5;28;01mTrue\u001b[39;00m\n",
      "\u001b[0;31mKeyboardInterrupt\u001b[0m: "
     ]
    }
   ],
   "source": [
    "a_max_minus = []\n",
    "a_max_plus = []\n",
    "\n",
    "#while i<pick_times.size:\n",
    "for i, t1 in enumerate(pick_times):\n",
    "    print(f\"Dowloading event {i}: {t1}\")\n",
    "    \n",
    "    \"\"\" t2 = np.datetime64(t1) + np.timedelta64(\n",
    "        int(  # (QUAKE) HACK\n",
    "            analysis_metadata[\"pre_buffer\"]\n",
    "            + analysis_metadata[\"event_time_window\"]\n",
    "            + analysis_metadata[\"mid_buffer\"]\n",
    "            + analysis_metadata[\"forecast_time_window\"]\n",
    "            + analysis_metadata[\"post_buffer\"]\n",
    "        ),\"s\",\n",
    "    ) \"\"\"\n",
    "    t1 = t1 - analysis_metadata[\"pre_buffer\"]\n",
    "    t2 = t1 + int(  # (QUAKE) HACK\n",
    "            analysis_metadata[\"pre_buffer\"]\n",
    "            + analysis_metadata[\"event_time_window\"]\n",
    "            + analysis_metadata[\"mid_buffer\"]\n",
    "            + analysis_metadata[\"forecast_time_window\"]\n",
    "            + analysis_metadata[\"post_buffer\"]\n",
    "        )\n",
    "    \n",
    "\n",
    "    # preprocess the waveforms\n",
    "    i = 0\n",
    "    while i < station_metadata[\"number_of_tries\"]:\n",
    "        try:\n",
    "            stream_dict = get_stream_multiple_stations(\n",
    "                station_list=[stn],\n",
    "                t1=UTCDateTime(t1),\n",
    "                t2=UTCDateTime(t2),\n",
    "            )\n",
    "            print(stream_dict)\n",
    "            tmp_stream=stream_dict[stn]\n",
    "            tmp_stream\n",
    "            #stream_dict[stn].plot()\n",
    "            event_dir = data_dir / f\"data/{t1.strftime('%Y-%m-%d_%H-%M-%S')}\"\n",
    "\n",
    "            os.makedirs(event_dir, exist_ok=True)\n",
    "\n",
    "            with open(event_dir / \"stream_dict.pkl\", \"wb\") as f:\n",
    "                pickle.dump(stream_dict, f)\n",
    "\n",
    "            amplitude, times = raw_stream_to_amplitude_and_times(stream_dict[stn])\n",
    "            np.save(event_dir / \"amplitude.npy\", amplitude)\n",
    "            np.save(event_dir / \"times.npy\", times)\n",
    "\n",
    "            minus_time_range = [\n",
    "                analysis_metadata[\"pre_buffer\"],\n",
    "                analysis_metadata[\"pre_buffer\"]\n",
    "                + analysis_metadata[\"event_time_window\"],\n",
    "            ]\n",
    "\n",
    "            plus_time_range = [\n",
    "                analysis_metadata[\"pre_buffer\"]\n",
    "                + analysis_metadata[\"event_time_window\"]\n",
    "                + analysis_metadata[\"mid_buffer\"],\n",
    "                analysis_metadata[\"pre_buffer\"]\n",
    "                + analysis_metadata[\"event_time_window\"]\n",
    "                + analysis_metadata[\"mid_buffer\"]\n",
    "                + analysis_metadata[\"forecast_time_window\"],\n",
    "            ]\n",
    "\n",
    "            a_minus = amplitude[\n",
    "                (times >= minus_time_range[0]) & (times <= minus_time_range[1])\n",
    "            ]\n",
    "            a_plus = amplitude[\n",
    "                (times >= plus_time_range[0]) & (times <= plus_time_range[1])\n",
    "            ]\n",
    "\n",
    "            a_max_minus.append(\n",
    "                np.max(a_minus)\n",
    "            )  # note that the instrument response is removed, then we detrend, and hi\n",
    "            a_max_plus.append(np.max(a_plus))\n",
    "\n",
    "        except Exception as e:\n",
    "            print(f\"Error dowloading event {i}: {e}\")\n",
    "\n",
    "\n",
    "        i += 1"
   ]
  },
  {
   "cell_type": "code",
   "execution_count": null,
   "metadata": {},
   "outputs": [],
   "source": [
    "np.save(data_dir / \"a_max_minus.npy\", np.array(a_max_minus))\n",
    "np.save(data_dir / \"a_max_plus.npy\", np.array(a_max_plus))"
   ]
  },
  {
   "cell_type": "code",
   "execution_count": null,
   "metadata": {},
   "outputs": [
    {
     "data": {
      "text/plain": [
       "<matplotlib.lines.Line2D at 0x7fd18e9cfad0>"
      ]
     },
     "execution_count": 84,
     "metadata": {},
     "output_type": "execute_result"
    },
    {
     "data": {
      "image/png": "[encoded data removed]",
      "text/plain": [
       "<Figure size 600x900 with 2 Axes>"
      ]
     },
     "metadata": {},
     "output_type": "display_data"
    }
   ],
   "source": [
    "fig, ax = plt.subplots(2,1, sharex=True, figsize=(4, 6), dpi=150)\n",
    "ax[0].scatter(np.array(a_max_minus), np.array(a_max_plus), s=0.5)\n",
    "ax[0].set(\n",
    "    xscale=\"log\", \n",
    "    yscale=\"log\",\n",
    "    ylabel=\"Max Amplitude Post-Event\",\n",
    ")\n",
    "\n",
    "ax[1].scatter(np.array(a_max_minus), np.array(a_max_plus)/np.array(a_max_minus), s=0.5)\n",
    "ax[1].set(\n",
    "    xscale=\"log\", \n",
    "    yscale=\"log\",\n",
    "    xlabel=\"Max Amplitude Pre-Event\",\n",
    "    ylabel=\"Post / Pre\",\n",
    ")\n",
    "ax[1].axhline(1, color=\"k\", linestyle=\"--\", lw=0.5)\n",
    "\n"
   ]
  },
  {
   "cell_type": "code",
   "execution_count": null,
   "metadata": {},
   "outputs": [],
   "source": [
    "# This goes in analysis file\n",
    "\n",
    "# for each file in REPO \n",
    "\n",
    "# load stream\n",
    "\n",
    "# split into parts\n",
    "\n",
    "# calculate shaking intensity (e.g. PGV)"
   ]
  }
 ],
 "metadata": {
  "kernelspec": {
   "display_name": "covseisnet",
   "language": "python",
   "name": "python3"
  },
  "language_info": {
   "codemirror_mode": {
    "name": "ipython",
    "version": 3
   },
   "file_extension": ".py",
   "mimetype": "text/x-python",
   "name": "python",
   "nbconvert_exporter": "python",
   "pygments_lexer": "ipython3",
   "version": "3.12.9"
  }
 },
 "nbformat": 4,
 "nbformat_minor": 2
}
