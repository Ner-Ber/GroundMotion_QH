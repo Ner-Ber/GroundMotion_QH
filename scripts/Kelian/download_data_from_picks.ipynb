{
 "cells": [
  {
   "cell_type": "code",
   "execution_count": 1,
   "metadata": {},
   "outputs": [],
   "source": [
    "%load_ext autoreload\n",
    "%autoreload 2\n",
    "import numpy as np\n",
    "from obspy import UTCDateTime\n",
    "from matplotlib import pyplot as plt\n",
    "import ground_motion_qh\n",
    "from ground_motion_qh.get_waveforms import get_stream_multiple_stations, raw_stream_to_amplitude_and_times\n",
    "import os\n",
    "from pathlib import Path\n",
    "from pprint import pprint\n",
    "import pickle\n",
    "\n",
    "base_dir = Path(ground_motion_qh.__file__).parent.parent"
   ]
  },
  {
   "cell_type": "code",
   "execution_count": null,
   "metadata": {},
   "outputs": [],
   "source": [
    "# ADD YOUR PICKS HERE:\n",
    "\n",
    "pick_times = get_pick_times() #...or whatever as a numpy datetime array\n"
   ]
  },
  {
   "cell_type": "code",
   "execution_count": 2,
   "metadata": {},
   "outputs": [],
   "source": [
    "download_name = \"ANZA_SND_1994_M4\"\n",
    "\n",
    "# check if the folder already exists in the raw data folder\n",
    "data_dir = base_dir / \"data\" / \"raw_data\" / download_name\n",
    "if data_dir.exists():\n",
    "    print(f\"Folder {download_name} already exists in the raw data folder.\")\n",
    "\n",
    "# MAKE SURE TO CHANGE STATION LOCATION ALONG WITH THE STATION NAME!\n",
    "station_metadata = dict(\n",
    "    stname = [\"SND\"],\n",
    "    network = \"AZ\",\n",
    "    org = \"IRIS\",\n",
    "    latitude = 33.5519,\n",
    "    longitude = -116.6129,\n",
    "    start_time = '1982-10-01',\n",
    "    number_of_tries = 2,\n",
    ")\n",
    "\n",
    "# explanation of buffers:\n",
    "\n",
    "# (hypocenter) t1                                                                                            t2\n",
    "# t0 time shift    pre-buffer     event time window     mid buffer     forecast time window      post buffer\n",
    "# |------------||--------------||-------------------||--------------||---------- ... ---------||-------------|\n",
    "\n",
    "analysis_metadata = dict(\n",
    "    mid_buffer = 20,\n",
    "    forecast_time_window = 60*60,\n",
    "    event_time_window = 30,\n",
    "    shift_times = False,\n",
    ")\n",
    "\n",
    "analysis_metadata[\"pre_buffer\"] = 3*0.05 * analysis_metadata[\"forecast_time_window\"] + analysis_metadata[\"event_time_window\"] + analysis_metadata[\"mid_buffer\"]\n",
    "analysis_metadata[\"post_buffer\"] = 3*0.05 * analysis_metadata[\"forecast_time_window\"] + analysis_metadata[\"event_time_window\"] + analysis_metadata[\"mid_buffer\"]\n"
   ]
  },
  {
   "cell_type": "code",
   "execution_count": 3,
   "metadata": {},
   "outputs": [
    {
     "name": "stdout",
     "output_type": "stream",
     "text": [
      "{'event_time_window': 30,\n",
      " 'forecast_time_window': 3600,\n",
      " 'mid_buffer': 20,\n",
      " 'post_buffer': 590.0000000000001,\n",
      " 'pre_buffer': 590.0000000000001,\n",
      " 'shift_times': True}\n"
     ]
    }
   ],
   "source": [
    "pprint(analysis_metadata, width=1)"
   ]
  },
  {
   "cell_type": "code",
   "execution_count": 4,
   "metadata": {},
   "outputs": [],
   "source": [
    "metadata = dict(\n",
    "    analysis_metadata = analysis_metadata,\n",
    "    station_metadata = station_metadata,\n",
    ")\n",
    "\n",
    "# create a data directory with and save the metadata\n",
    "data_dir = base_dir / \"data\" / \"raw_data\" / download_name\n",
    "os.makedirs(data_dir, exist_ok=True)\n",
    "np.save(data_dir / \"metadata.npy\", metadata)"
   ]
  },
  {
   "cell_type": "code",
   "execution_count": 10,
   "metadata": {},
   "outputs": [],
   "source": [
    "minus_time_range = [\n",
    "    analysis_metadata[\"pre_buffer\"],\n",
    "    analysis_metadata[\"pre_buffer\"] + analysis_metadata[\"event_time_window\"]\n",
    "]\n",
    "\n",
    "plus_time_range = [\n",
    "    analysis_metadata[\"pre_buffer\"] + analysis_metadata[\"event_time_window\"],\n",
    "    analysis_metadata[\"pre_buffer\"] + analysis_metadata[\"event_time_window\"] + analysis_metadata[\"mid_buffer\"]\n",
    "]"
   ]
  },
  {
   "cell_type": "code",
   "execution_count": null,
   "metadata": {},
   "outputs": [],
   "source": [
    "a_max_minus = []\n",
    "a_max_plus = []\n",
    "\n",
    "for i, t1 in pick_times:\n",
    "    print(f\"Dowloading event {i}: {t1}\")\n",
    "    \n",
    "    t2 = t1 + np.timedelta64(\n",
    "        int(  # (QUAKE) HACK\n",
    "            analysis_metadata[\"pre_buffer\"]\n",
    "            + analysis_metadata[\"event_time_window\"]\n",
    "            + analysis_metadata[\"mid_buffer\"]\n",
    "            + analysis_metadata[\"forecast_time_window\"]\n",
    "            + analysis_metadata[\"post_buffer\"]\n",
    "        ),\n",
    "        \"s\",\n",
    "    )\n",
    "\n",
    "    # preprocess the waveforms\n",
    "    i = 0\n",
    "    while i < station_metadata[\"number_of_tries\"]:\n",
    "        try:\n",
    "            stream_dict = get_stream_multiple_stations(\n",
    "                t1=UTCDateTime(t1),\n",
    "                t2=UTCDateTime(t2),\n",
    "            )\n",
    "\n",
    "            event_dir = data_dir / f\"data/{t1.strftime('%Y-%m-%d_%H-%M-%S')}\"\n",
    "\n",
    "            os.makedirs(event_dir, exist_ok=True)\n",
    "\n",
    "            with open(event_dir / \"stream_dict.pkl\", \"wb\") as f:\n",
    "                pickle.dump(stream_dict, f)\n",
    "\n",
    "            amplitude, times = raw_stream_to_amplitude_and_times(stream_dict[\"SND\"])\n",
    "            np.save(event_dir / \"amplitude.npy\", amplitude)\n",
    "            np.save(event_dir / \"times.npy\", times)\n",
    "\n",
    "            minus_time_range = [\n",
    "                analysis_metadata[\"pre_buffer\"],\n",
    "                analysis_metadata[\"pre_buffer\"]\n",
    "                + analysis_metadata[\"event_time_window\"],\n",
    "            ]\n",
    "\n",
    "            plus_time_range = [\n",
    "                analysis_metadata[\"pre_buffer\"]\n",
    "                + analysis_metadata[\"event_time_window\"],\n",
    "                analysis_metadata[\"pre_buffer\"]\n",
    "                + analysis_metadata[\"event_time_window\"]\n",
    "                + analysis_metadata[\"mid_buffer\"],\n",
    "            ]\n",
    "\n",
    "            a_minus = amplitude[\n",
    "                (times >= minus_time_range[0]) & (times <= minus_time_range[1])\n",
    "            ]\n",
    "            a_plus = amplitude[\n",
    "                (times >= plus_time_range[0]) & (times <= plus_time_range[1])\n",
    "            ]\n",
    "\n",
    "            a_max_minus.append(\n",
    "                np.max(a_minus)\n",
    "            )  # note that the instrument response is removed, then we detrend, and hi\n",
    "            a_max_plus.append(np.max(a_plus))\n",
    "\n",
    "        except Exception as e:\n",
    "            print(f\"Error dowloading event {i}: {e}\")\n",
    "\n",
    "        i += 1"
   ]
  },
  {
   "cell_type": "code",
   "execution_count": 12,
   "metadata": {},
   "outputs": [],
   "source": [
    "np.save(data_dir / \"a_max_minus.npy\", np.array(a_max_minus))\n",
    "np.save(data_dir / \"a_max_plus.npy\", np.array(a_max_plus))"
   ]
  },
  {
   "cell_type": "code",
   "execution_count": 13,
   "metadata": {},
   "outputs": [
    {
     "data": {
      "text/plain": [
       "<matplotlib.lines.Line2D at 0x30532b590>"
      ]
     },
     "execution_count": 13,
     "metadata": {},
     "output_type": "execute_result"
    },
    {
     "data": {
      "image/png": "[encoded data removed]",
      "text/plain": [
       "<Figure size 600x900 with 2 Axes>"
      ]
     },
     "metadata": {},
     "output_type": "display_data"
    }
   ],
   "source": [
    "fig, ax = plt.subplots(2,1, sharex=True, figsize=(4, 6), dpi=150)\n",
    "ax[0].scatter(np.array(a_max_minus), np.array(a_max_plus), s=0.5)\n",
    "ax[0].set(\n",
    "    xscale=\"log\", \n",
    "    yscale=\"log\",\n",
    "    ylabel=\"Max Amplitude Post-Event\",\n",
    ")\n",
    "\n",
    "ax[1].scatter(np.array(a_max_minus), np.array(a_max_plus)/np.array(a_max_minus), s=0.5)\n",
    "ax[1].set(\n",
    "    xscale=\"log\", \n",
    "    yscale=\"log\",\n",
    "    xlabel=\"Max Amplitude Pre-Event\",\n",
    "    ylabel=\"Post / Pre\",\n",
    ")\n",
    "ax[1].axhline(1, color=\"k\", linestyle=\"--\", lw=0.5)\n",
    "\n"
   ]
  },
  {
   "cell_type": "code",
   "execution_count": 14,
   "metadata": {},
   "outputs": [],
   "source": [
    "# This goes in analysis file\n",
    "\n",
    "# for each file in REPO \n",
    "\n",
    "# load stream\n",
    "\n",
    "# split into parts\n",
    "\n",
    "# calculate shaking intensity (e.g. PGV)"
   ]
  }
 ],
 "metadata": {
  "kernelspec": {
   "display_name": "wave2wave",
   "language": "python",
   "name": "python3"
  },
  "language_info": {
   "codemirror_mode": {
    "name": "ipython",
    "version": 3
   },
   "file_extension": ".py",
   "mimetype": "text/x-python",
   "name": "python",
   "nbconvert_exporter": "python",
   "pygments_lexer": "ipython3",
   "version": "3.12.10"
  }
 },
 "nbformat": 4,
 "nbformat_minor": 2
}
